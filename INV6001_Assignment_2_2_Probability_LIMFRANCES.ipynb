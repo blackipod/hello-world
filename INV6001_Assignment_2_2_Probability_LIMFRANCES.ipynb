{
  "nbformat": 4,
  "nbformat_minor": 0,
  "metadata": {
    "colab": {
      "name": "INV6001 - Assignment 2 - #2 Probability - LIMFRANCES.ipynb",
      "provenance": [],
      "toc_visible": true,
      "authorship_tag": "ABX9TyNspgGcy6OL0Yi8JZ/XQWos",
      "include_colab_link": true
    },
    "kernelspec": {
      "name": "python3",
      "display_name": "Python 3"
    },
    "language_info": {
      "name": "python"
    }
  },
  "cells": [
    {
      "cell_type": "markdown",
      "metadata": {
        "id": "view-in-github",
        "colab_type": "text"
      },
      "source": [
        "<a href=\"https://colab.research.google.com/github/blackipod/hello-world/blob/main/INV6001_Assignment_2_2_Probability_LIMFRANCES.ipynb\" target=\"_parent\"><img src=\"https://colab.research.google.com/assets/colab-badge.svg\" alt=\"Open In Colab\"/></a>"
      ]
    },
    {
      "cell_type": "markdown",
      "source": [
        "# You toss a coin 30 times and see head 24 times. Is it a fair coin?\n",
        "\n",
        "https://github.com/amitkaps/hackermath/blob/master/Module_2b_probability.ipynb"
      ],
      "metadata": {
        "id": "k4C5lFDFy6w5"
      }
    },
    {
      "cell_type": "code",
      "execution_count": null,
      "metadata": {
        "id": "BOSG5R9bv2bx"
      },
      "outputs": [],
      "source": [
        "import numpy as np\n",
        "import random"
      ]
    },
    {
      "cell_type": "code",
      "source": [
        "total_tosses = 30\n",
        "num_heads = 24\n",
        "prob_head = 0.5"
      ],
      "metadata": {
        "id": "M4S3on4vwFZI"
      },
      "execution_count": null,
      "outputs": []
    },
    {
      "cell_type": "code",
      "source": [
        "#0 is tail, 1 is heads. Generate one experiment\n",
        "#0 is lowest possible value\n",
        "#random.randint(low, high=None, size=None, dtype=int)\n",
        "\n",
        "experiment = np.random.randint(0,2,total_tosses)\n",
        "\n",
        "print (experiment)"
      ],
      "metadata": {
        "colab": {
          "base_uri": "https://localhost:8080/"
        },
        "id": "q1uii3vPzmia",
        "outputId": "280468d8-d323-4c12-cbed-0b43b9556e1a"
      },
      "execution_count": null,
      "outputs": [
        {
          "output_type": "stream",
          "name": "stdout",
          "text": [
            "[1 1 0 1 1 1 0 0 1 0 1 0 0 1 0 0 1 1 0 0 1 0 1 1 0 1 1 0 1 1]\n"
          ]
        }
      ]
    },
    {
      "cell_type": "code",
      "source": [
        "print(\"Data of the Experiment:\", experiment)"
      ],
      "metadata": {
        "colab": {
          "base_uri": "https://localhost:8080/"
        },
        "id": "y3VlKPDjz1Nb",
        "outputId": "97bd477f-34c7-468d-a5d6-c68dac9122b2"
      },
      "execution_count": null,
      "outputs": [
        {
          "output_type": "stream",
          "name": "stdout",
          "text": [
            "Data of the Experiment: [1 1 0 1 1 1 0 0 1 0 1 0 0 1 0 0 1 1 0 0 1 0 1 1 0 1 1 0 1 1]\n"
          ]
        }
      ]
    },
    {
      "cell_type": "code",
      "source": [
        "#Find the number of heads\n",
        "\n",
        "print(\"Heads in the Experiment:\", experiment==1)"
      ],
      "metadata": {
        "colab": {
          "base_uri": "https://localhost:8080/"
        },
        "id": "B-Md5uhE0U_L",
        "outputId": "de082053-c03d-4fcb-ce43-8bfda05a54fd"
      },
      "execution_count": null,
      "outputs": [
        {
          "output_type": "stream",
          "name": "stdout",
          "text": [
            "Heads in the Experiment: [ True  True False  True  True  True False False  True False  True False\n",
            " False  True False False  True  True False False  True False  True  True\n",
            " False  True  True False  True  True]\n"
          ]
        }
      ]
    },
    {
      "cell_type": "code",
      "source": [
        "#How many heads are in the array?\n",
        "\n",
        "head_count = experiment[experiment==1].shape[0]\n",
        "\n",
        "print(\"Heads in the experiment:\", head_count)"
      ],
      "metadata": {
        "colab": {
          "base_uri": "https://localhost:8080/"
        },
        "id": "djeNhWHI0bwe",
        "outputId": "84f5c8fd-be90-4a4d-d794-984189e6895d"
      },
      "execution_count": null,
      "outputs": [
        {
          "output_type": "stream",
          "name": "stdout",
          "text": [
            "Heads in the experiment: 17\n"
          ]
        }
      ]
    },
    {
      "cell_type": "markdown",
      "source": [
        "#np.empty\n",
        "\n",
        "https://numpy.org/doc/stable/reference/generated/numpy.empty.html?highlight=empty#numpy.empty\n",
        "\n",
        "np.empty creates an empty array without shape and size, is not set 0"
      ],
      "metadata": {
        "id": "2dfsRWRmJiMn"
      }
    },
    {
      "cell_type": "code",
      "source": [
        "#Loop function if it needs to be repeated 100 times\n",
        "\n",
        "def coin_toss_experiment(times_to_repeat):\n",
        "\n",
        "  #arange = Return evenly spaced values within a given interval.\n",
        "  for times in np.arange(times_to_repeat):\n",
        "    experiment = np.random.randint(0,2, total_tosses)\n",
        "\n",
        "  return experiment\n",
        "\n",
        "print(experiment)"
      ],
      "metadata": {
        "colab": {
          "base_uri": "https://localhost:8080/"
        },
        "id": "ro4eN7Y00r4x",
        "outputId": "96fab5e9-2038-4e29-816f-3c0c5ce7e943"
      },
      "execution_count": null,
      "outputs": [
        {
          "output_type": "stream",
          "name": "stdout",
          "text": [
            "[1 1 0 1 1 1 0 0 1 0 1 0 0 1 0 0 1 1 0 0 1 0 1 1 0 1 1 0 1 1]\n"
          ]
        }
      ]
    },
    {
      "cell_type": "code",
      "source": [
        "#declare head_count as coin toss experiment of 100 times\n",
        "\n",
        "head_count = coin_toss_experiment(100)"
      ],
      "metadata": {
        "id": "OKnf4WWV2ai0"
      },
      "execution_count": null,
      "outputs": []
    },
    {
      "cell_type": "code",
      "source": [
        "#get 10 values\n",
        "\n",
        "head_count[:24]"
      ],
      "metadata": {
        "colab": {
          "base_uri": "https://localhost:8080/"
        },
        "id": "JaGnjdas2gFJ",
        "outputId": "5d11899f-5a76-48c8-f6b0-cf17dc7e19ff"
      },
      "execution_count": null,
      "outputs": [
        {
          "output_type": "execute_result",
          "data": {
            "text/plain": [
              "array([0, 0, 1, 0, 0, 1, 1, 1, 0, 0, 1, 1, 1, 1, 1, 1, 1, 0, 1, 0, 1, 1,\n",
              "       0, 0])"
            ]
          },
          "metadata": {},
          "execution_count": 159
        }
      ]
    },
    {
      "cell_type": "code",
      "source": [
        "print(\"Dimensions:\", head_count.shape, \"\\n\", \"Type of object:\", type(head_count))"
      ],
      "metadata": {
        "colab": {
          "base_uri": "https://localhost:8080/"
        },
        "id": "cX4VLzD22h0B",
        "outputId": "5666bd0d-12e3-41c9-b738-b0a2dcbc7d68"
      },
      "execution_count": null,
      "outputs": [
        {
          "output_type": "stream",
          "name": "stdout",
          "text": [
            "Dimensions: (100, 1) \n",
            " Type of object: <class 'numpy.ndarray'>\n"
          ]
        }
      ]
    },
    {
      "cell_type": "code",
      "source": [
        "import matplotlib.pyplot as plt\n",
        "%matplotlib inline\n",
        "import seaborn as sns\n",
        "sns.set(color_codes = True)"
      ],
      "metadata": {
        "id": "it6agkyA25xT"
      },
      "execution_count": null,
      "outputs": []
    },
    {
      "cell_type": "code",
      "source": [
        "sns.distplot(head_count, kde=False)"
      ],
      "metadata": {
        "colab": {
          "base_uri": "https://localhost:8080/",
          "height": 340
        },
        "id": "FsYpjGIF3D6p",
        "outputId": "12a15533-5898-4ad2-a74f-9db6afd548bc"
      },
      "execution_count": null,
      "outputs": [
        {
          "output_type": "stream",
          "name": "stderr",
          "text": [
            "/usr/local/lib/python3.7/dist-packages/seaborn/distributions.py:2619: FutureWarning: `distplot` is a deprecated function and will be removed in a future version. Please adapt your code to use either `displot` (a figure-level function with similar flexibility) or `histplot` (an axes-level function for histograms).\n",
            "  warnings.warn(msg, FutureWarning)\n"
          ]
        },
        {
          "output_type": "execute_result",
          "data": {
            "text/plain": [
              "<matplotlib.axes._subplots.AxesSubplot at 0x7f08b233fc50>"
            ]
          },
          "metadata": {},
          "execution_count": 151
        },
        {
          "output_type": "display_data",
          "data": {
            "text/plain": [
              "<Figure size 432x288 with 1 Axes>"
            ],
            "image/png": "[encoded data removed]"
          },
          "metadata": {}
        }
      ]
    },
    {
      "cell_type": "code",
      "source": [
        "sns.distplot(head_count, kde=True)"
      ],
      "metadata": {
        "colab": {
          "base_uri": "https://localhost:8080/",
          "height": 340
        },
        "id": "egKZKzhZ3P_Y",
        "outputId": "3b455a0d-8688-463f-d3f7-f3a73d9a8b01"
      },
      "execution_count": null,
      "outputs": [
        {
          "output_type": "stream",
          "name": "stderr",
          "text": [
            "/usr/local/lib/python3.7/dist-packages/seaborn/distributions.py:2619: FutureWarning: `distplot` is a deprecated function and will be removed in a future version. Please adapt your code to use either `displot` (a figure-level function with similar flexibility) or `histplot` (an axes-level function for histograms).\n",
            "  warnings.warn(msg, FutureWarning)\n"
          ]
        },
        {
          "output_type": "execute_result",
          "data": {
            "text/plain": [
              "<matplotlib.axes._subplots.AxesSubplot at 0x7f08b223a190>"
            ]
          },
          "metadata": {},
          "execution_count": 152
        },
        {
          "output_type": "display_data",
          "data": {
            "text/plain": [
              "<Figure size 432x288 with 1 Axes>"
            ],
            "image/png": "[encoded data removed]"
          },
          "metadata": {}
        }
      ]
    },
    {
      "cell_type": "code",
      "source": [
        "head_count[head_count>=24]"
      ],
      "metadata": {
        "colab": {
          "base_uri": "https://localhost:8080/"
        },
        "id": "C34kciwR8XYj",
        "outputId": "49371f48-1cb2-4064-ef4b-699137d70e39"
      },
      "execution_count": null,
      "outputs": [
        {
          "output_type": "execute_result",
          "data": {
            "text/plain": [
              "array([], dtype=int64)"
            ]
          },
          "metadata": {},
          "execution_count": 153
        }
      ]
    },
    {
      "cell_type": "code",
      "source": [
        "print(\"No of times experiment returned 24 heads or more:\", head_count[head_count>=24].shape[0])\n",
        "print(\"% of times with 24 or more heads: \", head_count[head_count>=24].shape[0]/float(head_count.shape[0])*100)"
      ],
      "metadata": {
        "colab": {
          "base_uri": "https://localhost:8080/"
        },
        "id": "DKzoa8wH8tsc",
        "outputId": "94d858b9-064f-4676-aa5d-21e8200251c0"
      },
      "execution_count": null,
      "outputs": [
        {
          "output_type": "stream",
          "name": "stdout",
          "text": [
            "No of times experiment returned 24 heads or more: 0\n",
            "% of times with 24 or more heads:  0.0\n"
          ]
        }
      ]
    },
    {
      "cell_type": "code",
      "source": [
        "#repeat experiment 100,000 times\n",
        "\n",
        "#Loop function if it needs to be repeated 100 times\n",
        "\n",
        "def coin_toss_experiment(times_to_repeat):\n",
        "\n",
        "  #arange = Return evenly spaced values within a given interval.\n",
        "  for times in np.arange(times_to_repeat):\n",
        "    experiment = np.random.randint(0,2, size=100000)\n",
        "\n",
        "    return experiment\n",
        "\n",
        "print (experiment)"
      ],
      "metadata": {
        "colab": {
          "base_uri": "https://localhost:8080/"
        },
        "id": "ixcAeM75NYtO",
        "outputId": "153c1672-1734-4864-bb58-00fcf5a97421"
      },
      "execution_count": null,
      "outputs": [
        {
          "output_type": "stream",
          "name": "stdout",
          "text": [
            "[1 1 0 1 1 1 0 0 1 0 1 0 0 1 0 0 1 1 0 0 1 0 1 1 0 1 1 0 1 1]\n"
          ]
        }
      ]
    },
    {
      "cell_type": "code",
      "source": [
        "print(\"Heads in the Experiment:\", experiment==1)"
      ],
      "metadata": {
        "colab": {
          "base_uri": "https://localhost:8080/"
        },
        "id": "EmNb-dHLNen3",
        "outputId": "f6b36e9d-2474-4b47-d786-f4c315546fee"
      },
      "execution_count": null,
      "outputs": [
        {
          "output_type": "stream",
          "name": "stdout",
          "text": [
            "Heads in the Experiment: [ True  True False  True  True  True False False  True False  True False\n",
            " False  True False False  True  True False False  True False  True  True\n",
            " False  True  True False  True  True]\n"
          ]
        }
      ]
    },
    {
      "cell_type": "code",
      "source": [
        "head_count = experiment[experiment==1].shape[0]\n",
        "\n",
        "print(\"Heads in the experiment:\", head_count)"
      ],
      "metadata": {
        "id": "U0QiqQF5bZ0R",
        "outputId": "fa936502-c00d-43d0-932e-785074b70ae3",
        "colab": {
          "base_uri": "https://localhost:8080/"
        }
      },
      "execution_count": null,
      "outputs": [
        {
          "output_type": "stream",
          "name": "stdout",
          "text": [
            "Heads in the experiment: 17\n"
          ]
        }
      ]
    }
  ]
}