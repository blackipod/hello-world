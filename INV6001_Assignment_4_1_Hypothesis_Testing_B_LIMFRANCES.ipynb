{
  "nbformat": 4,
  "nbformat_minor": 0,
  "metadata": {
    "colab": {
      "name": "INV6001 - Assignment 4 - #1 Hypothesis Testing B - LIMFRANCES.ipynb",
      "provenance": [],
      "authorship_tag": "ABX9TyMQErUQqLb18A2kUacqKT17",
      "include_colab_link": true
    },
    "kernelspec": {
      "name": "python3",
      "display_name": "Python 3"
    },
    "language_info": {
      "name": "python"
    }
  },
  "cells": [
    {
      "cell_type": "markdown",
      "metadata": {
        "id": "view-in-github",
        "colab_type": "text"
      },
      "source": [
        "<a href=\"https://colab.research.google.com/github/blackipod/hello-world/blob/main/INV6001_Assignment_4_1_Hypothesis_Testing_B_LIMFRANCES.ipynb\" target=\"_parent\"><img src=\"https://colab.research.google.com/assets/colab-badge.svg\" alt=\"Open In Colab\"/></a>"
      ]
    },
    {
      "cell_type": "code",
      "execution_count": null,
      "metadata": {
        "id": "HLIE0Hsp3q6r"
      },
      "outputs": [],
      "source": [
        "import numpy as np\n",
        "import pandas as pd\n",
        "from scipy import stats\n",
        "import matplotlib as mpl\n",
        "%matplotlib inline"
      ]
    },
    {
      "cell_type": "code",
      "source": [
        "import seaborn as sns\n",
        "sns.set(color_codes=True)"
      ],
      "metadata": {
        "id": "84vQv65O3zUd"
      },
      "execution_count": null,
      "outputs": []
    },
    {
      "cell_type": "code",
      "source": [
        "cars = pd.read_csv(\"https://raw.githubusercontent.com/amitkaps/hackermath/master/data/cars_v1.csv\", encoding=\"ISO-8859-1\")"
      ],
      "metadata": {
        "id": "jWeH0Uii32JT"
      },
      "execution_count": null,
      "outputs": []
    },
    {
      "cell_type": "markdown",
      "source": [
        "#Is the average mileage of Automatic cars significantly different from the average mileage of Manual cars ?"
      ],
      "metadata": {
        "id": "NoHycj11349t"
      }
    },
    {
      "cell_type": "code",
      "source": [
        "cars_Automatic = cars[cars.GearType==' Automatic'].copy().reset_index()\n",
        "cars_Manual = cars[cars.GearType==' Manual'].copy().reset_index()"
      ],
      "metadata": {
        "id": "iuw93BXO32YQ"
      },
      "execution_count": null,
      "outputs": []
    },
    {
      "cell_type": "code",
      "source": [
        "cars"
      ],
      "metadata": {
        "colab": {
          "base_uri": "https://localhost:8080/",
          "height": 798
        },
        "id": "UO1pGzzo7B5M",
        "outputId": "f5635fe9-feca-43c6-8719-0f0c11ef36ec"
      },
      "execution_count": null,
      "outputs": [
        {
          "output_type": "execute_result",
          "data": {
            "text/plain": [
              "                        Make                                        Model  \\\n",
              "0        Ashok Leyland Stile        Ashok Leyland Stile LE 8-STR (Diesel)   \n",
              "1        Ashok Leyland Stile        Ashok Leyland Stile LS 8-STR (Diesel)   \n",
              "2        Ashok Leyland Stile        Ashok Leyland Stile LX 8-STR (Diesel)   \n",
              "3        Ashok Leyland Stile        Ashok Leyland Stile LS 7-STR (Diesel)   \n",
              "4        Ashok Leyland Stile  Ashok Leyland Stile LS 7-STR Alloy (Diesel)   \n",
              "..                       ...                                          ...   \n",
              "828                Volvo V40               Volvo V40 D3 R-Design (Diesel)   \n",
              "829  Volvo V40 Cross Country          Volvo V40 D3 Cross Country (Diesel)   \n",
              "830  Volvo V40 Cross Country          Volvo V40 T4 Cross Country (Petrol)   \n",
              "831               Volvo XC90              Volvo XC 90 D5 Momentum(Diesel)   \n",
              "832               Volvo XC90           Volvo XC 90 D5 Inscription(Diesel)   \n",
              "\n",
              "     Price       Type   ABS  BootSpace    GearType AirBag  Engine  \\\n",
              "0      750        MPV    No      500.0      Manual     No  1461.0   \n",
              "1      800        MPV    No      500.0      Manual     No  1461.0   \n",
              "2      830        MPV    No      500.0      Manual     No  1461.0   \n",
              "3      850        MPV    No      500.0      Manual     No  1461.0   \n",
              "4      880        MPV    No      500.0      Manual     No  1461.0   \n",
              "..     ...        ...   ...        ...         ...    ...     ...   \n",
              "828   2770  Hatchback   Yes      324.0   Automatic    Yes  1984.0   \n",
              "829   3180  Hatchback   Yes      335.0   Automatic    Yes  1984.0   \n",
              "830   3240  Hatchback   Yes      324.0   Automatic    Yes  1596.0   \n",
              "831   6490        SUV   Yes        NaN   Automatic    Yes  1969.0   \n",
              "832   7790        SUV   Yes        NaN   Automatic    Yes  1969.0   \n",
              "\n",
              "     FuelCapacity  Mileage  \n",
              "0            50.0     20.7  \n",
              "1            50.0     20.7  \n",
              "2            50.0     20.7  \n",
              "3            50.0     20.7  \n",
              "4            50.0     20.7  \n",
              "..            ...      ...  \n",
              "828          62.0     27.8  \n",
              "829          60.0     16.8  \n",
              "830          50.0     16.0  \n",
              "831          68.0     11.1  \n",
              "832          68.0     11.1  \n",
              "\n",
              "[833 rows x 11 columns]"
            ],
            "text/html": [
              "\n",
              "  <div id=\"df-292a6693-07d2-4fdb-a7a9-5760d0f83e7c\">\n",
              "    <div class=\"colab-df-container\">\n",
              "      <div>\n",
              "<style scoped>\n",
              "    .dataframe tbody tr th:only-of-type {\n",
              "        vertical-align: middle;\n",
              "    }\n",
              "\n",
              "    .dataframe tbody tr th {\n",
              "        vertical-align: top;\n",
              "    }\n",
              "\n",
              "    .dataframe thead th {\n",
              "        text-align: right;\n",
              "    }\n",
              "</style>\n",
              "<table border=\"1\" class=\"dataframe\">\n",
              "  <thead>\n",
              "    <tr style=\"text-align: right;\">\n",
              "      <th></th>\n",
              "      <th>Make</th>\n",
              "      <th>Model</th>\n",
              "      <th>Price</th>\n",
              "      <th>Type</th>\n",
              "      <th>ABS</th>\n",
              "      <th>BootSpace</th>\n",
              "      <th>GearType</th>\n",
              "      <th>AirBag</th>\n",
              "      <th>Engine</th>\n",
              "      <th>FuelCapacity</th>\n",
              "      <th>Mileage</th>\n",
              "    </tr>\n",
              "  </thead>\n",
              "  <tbody>\n",
              "    <tr>\n",
              "      <th>0</th>\n",
              "      <td>Ashok Leyland Stile</td>\n",
              "      <td>Ashok Leyland Stile LE 8-STR (Diesel)</td>\n",
              "      <td>750</td>\n",
              "      <td>MPV</td>\n",
              "      <td>No</td>\n",
              "      <td>500.0</td>\n",
              "      <td>Manual</td>\n",
              "      <td>No</td>\n",
              "      <td>1461.0</td>\n",
              "      <td>50.0</td>\n",
              "      <td>20.7</td>\n",
              "    </tr>\n",
              "    <tr>\n",
              "      <th>1</th>\n",
              "      <td>Ashok Leyland Stile</td>\n",
              "      <td>Ashok Leyland Stile LS 8-STR (Diesel)</td>\n",
              "      <td>800</td>\n",
              "      <td>MPV</td>\n",
              "      <td>No</td>\n",
              "      <td>500.0</td>\n",
              "      <td>Manual</td>\n",
              "      <td>No</td>\n",
              "      <td>1461.0</td>\n",
              "      <td>50.0</td>\n",
              "      <td>20.7</td>\n",
              "    </tr>\n",
              "    <tr>\n",
              "      <th>2</th>\n",
              "      <td>Ashok Leyland Stile</td>\n",
              "      <td>Ashok Leyland Stile LX 8-STR (Diesel)</td>\n",
              "      <td>830</td>\n",
              "      <td>MPV</td>\n",
              "      <td>No</td>\n",
              "      <td>500.0</td>\n",
              "      <td>Manual</td>\n",
              "      <td>No</td>\n",
              "      <td>1461.0</td>\n",
              "      <td>50.0</td>\n",
              "      <td>20.7</td>\n",
              "    </tr>\n",
              "    <tr>\n",
              "      <th>3</th>\n",
              "      <td>Ashok Leyland Stile</td>\n",
              "      <td>Ashok Leyland Stile LS 7-STR (Diesel)</td>\n",
              "      <td>850</td>\n",
              "      <td>MPV</td>\n",
              "      <td>No</td>\n",
              "      <td>500.0</td>\n",
              "      <td>Manual</td>\n",
              "      <td>No</td>\n",
              "      <td>1461.0</td>\n",
              "      <td>50.0</td>\n",
              "      <td>20.7</td>\n",
              "    </tr>\n",
              "    <tr>\n",
              "      <th>4</th>\n",
              "      <td>Ashok Leyland Stile</td>\n",
              "      <td>Ashok Leyland Stile LS 7-STR Alloy (Diesel)</td>\n",
              "      <td>880</td>\n",
              "      <td>MPV</td>\n",
              "      <td>No</td>\n",
              "      <td>500.0</td>\n",
              "      <td>Manual</td>\n",
              "      <td>No</td>\n",
              "      <td>1461.0</td>\n",
              "      <td>50.0</td>\n",
              "      <td>20.7</td>\n",
              "    </tr>\n",
              "    <tr>\n",
              "      <th>...</th>\n",
              "      <td>...</td>\n",
              "      <td>...</td>\n",
              "      <td>...</td>\n",
              "      <td>...</td>\n",
              "      <td>...</td>\n",
              "      <td>...</td>\n",
              "      <td>...</td>\n",
              "      <td>...</td>\n",
              "      <td>...</td>\n",
              "      <td>...</td>\n",
              "      <td>...</td>\n",
              "    </tr>\n",
              "    <tr>\n",
              "      <th>828</th>\n",
              "      <td>Volvo V40</td>\n",
              "      <td>Volvo V40 D3 R-Design (Diesel)</td>\n",
              "      <td>2770</td>\n",
              "      <td>Hatchback</td>\n",
              "      <td>Yes</td>\n",
              "      <td>324.0</td>\n",
              "      <td>Automatic</td>\n",
              "      <td>Yes</td>\n",
              "      <td>1984.0</td>\n",
              "      <td>62.0</td>\n",
              "      <td>27.8</td>\n",
              "    </tr>\n",
              "    <tr>\n",
              "      <th>829</th>\n",
              "      <td>Volvo V40 Cross Country</td>\n",
              "      <td>Volvo V40 D3 Cross Country (Diesel)</td>\n",
              "      <td>3180</td>\n",
              "      <td>Hatchback</td>\n",
              "      <td>Yes</td>\n",
              "      <td>335.0</td>\n",
              "      <td>Automatic</td>\n",
              "      <td>Yes</td>\n",
              "      <td>1984.0</td>\n",
              "      <td>60.0</td>\n",
              "      <td>16.8</td>\n",
              "    </tr>\n",
              "    <tr>\n",
              "      <th>830</th>\n",
              "      <td>Volvo V40 Cross Country</td>\n",
              "      <td>Volvo V40 T4 Cross Country (Petrol)</td>\n",
              "      <td>3240</td>\n",
              "      <td>Hatchback</td>\n",
              "      <td>Yes</td>\n",
              "      <td>324.0</td>\n",
              "      <td>Automatic</td>\n",
              "      <td>Yes</td>\n",
              "      <td>1596.0</td>\n",
              "      <td>50.0</td>\n",
              "      <td>16.0</td>\n",
              "    </tr>\n",
              "    <tr>\n",
              "      <th>831</th>\n",
              "      <td>Volvo XC90</td>\n",
              "      <td>Volvo XC 90 D5 Momentum(Diesel)</td>\n",
              "      <td>6490</td>\n",
              "      <td>SUV</td>\n",
              "      <td>Yes</td>\n",
              "      <td>NaN</td>\n",
              "      <td>Automatic</td>\n",
              "      <td>Yes</td>\n",
              "      <td>1969.0</td>\n",
              "      <td>68.0</td>\n",
              "      <td>11.1</td>\n",
              "    </tr>\n",
              "    <tr>\n",
              "      <th>832</th>\n",
              "      <td>Volvo XC90</td>\n",
              "      <td>Volvo XC 90 D5 Inscription(Diesel)</td>\n",
              "      <td>7790</td>\n",
              "      <td>SUV</td>\n",
              "      <td>Yes</td>\n",
              "      <td>NaN</td>\n",
              "      <td>Automatic</td>\n",
              "      <td>Yes</td>\n",
              "      <td>1969.0</td>\n",
              "      <td>68.0</td>\n",
              "      <td>11.1</td>\n",
              "    </tr>\n",
              "  </tbody>\n",
              "</table>\n",
              "<p>833 rows × 11 columns</p>\n",
              "</div>\n",
              "      <button class=\"colab-df-convert\" onclick=\"convertToInteractive('df-292a6693-07d2-4fdb-a7a9-5760d0f83e7c')\"\n",
              "              title=\"Convert this dataframe to an interactive table.\"\n",
              "              style=\"display:none;\">\n",
              "        \n",
              "  <svg xmlns=\"http://www.w3.org/2000/svg\" height=\"24px\"viewBox=\"0 0 24 24\"\n",
              "       width=\"24px\">\n",
              "    <path d=\"M0 0h24v24H0V0z\" fill=\"none\"/>\n",
              "    <path d=\"M18.56 5.44l.94 2.06.94-2.06 2.06-.94-2.06-.94-.94-2.06-.94 2.06-2.06.94zm-11 1L8.5 8.5l.94-2.06 2.06-.94-2.06-.94L8.5 2.5l-.94 2.06-2.06.94zm10 10l.94 2.06.94-2.06 2.06-.94-2.06-.94-.94-2.06-.94 2.06-2.06.94z\"/><path d=\"M17.41 7.96l-1.37-1.37c-.4-.4-.92-.59-1.43-.59-.52 0-1.04.2-1.43.59L10.3 9.45l-7.72 7.72c-.78.78-.78 2.05 0 2.83L4 21.41c.39.39.9.59 1.41.59.51 0 1.02-.2 1.41-.59l7.78-7.78 2.81-2.81c.8-.78.8-2.07 0-2.86zM5.41 20L4 18.59l7.72-7.72 1.47 1.35L5.41 20z\"/>\n",
              "  </svg>\n",
              "      </button>\n",
              "      \n",
              "  <style>\n",
              "    .colab-df-container {\n",
              "      display:flex;\n",
              "      flex-wrap:wrap;\n",
              "      gap: 12px;\n",
              "    }\n",
              "\n",
              "    .colab-df-convert {\n",
              "      background-color: #E8F0FE;\n",
              "      border: none;\n",
              "      border-radius: 50%;\n",
              "      cursor: pointer;\n",
              "      display: none;\n",
              "      fill: #1967D2;\n",
              "      height: 32px;\n",
              "      padding: 0 0 0 0;\n",
              "      width: 32px;\n",
              "    }\n",
              "\n",
              "    .colab-df-convert:hover {\n",
              "      background-color: #E2EBFA;\n",
              "      box-shadow: 0px 1px 2px rgba(60, 64, 67, 0.3), 0px 1px 3px 1px rgba(60, 64, 67, 0.15);\n",
              "      fill: #174EA6;\n",
              "    }\n",
              "\n",
              "    [theme=dark] .colab-df-convert {\n",
              "      background-color: #3B4455;\n",
              "      fill: #D2E3FC;\n",
              "    }\n",
              "\n",
              "    [theme=dark] .colab-df-convert:hover {\n",
              "      background-color: #434B5C;\n",
              "      box-shadow: 0px 1px 3px 1px rgba(0, 0, 0, 0.15);\n",
              "      filter: drop-shadow(0px 1px 2px rgba(0, 0, 0, 0.3));\n",
              "      fill: #FFFFFF;\n",
              "    }\n",
              "  </style>\n",
              "\n",
              "      <script>\n",
              "        const buttonEl =\n",
              "          document.querySelector('#df-292a6693-07d2-4fdb-a7a9-5760d0f83e7c button.colab-df-convert');\n",
              "        buttonEl.style.display =\n",
              "          google.colab.kernel.accessAllowed ? 'block' : 'none';\n",
              "\n",
              "        async function convertToInteractive(key) {\n",
              "          const element = document.querySelector('#df-292a6693-07d2-4fdb-a7a9-5760d0f83e7c');\n",
              "          const dataTable =\n",
              "            await google.colab.kernel.invokeFunction('convertToInteractive',\n",
              "                                                     [key], {});\n",
              "          if (!dataTable) return;\n",
              "\n",
              "          const docLinkHtml = 'Like what you see? Visit the ' +\n",
              "            '<a target=\"_blank\" href=https://colab.research.google.com/notebooks/data_table.ipynb>data table notebook</a>'\n",
              "            + ' to learn more about interactive tables.';\n",
              "          element.innerHTML = '';\n",
              "          dataTable['output_type'] = 'display_data';\n",
              "          await google.colab.output.renderOutput(dataTable, element);\n",
              "          const docLink = document.createElement('div');\n",
              "          docLink.innerHTML = docLinkHtml;\n",
              "          element.appendChild(docLink);\n",
              "        }\n",
              "      </script>\n",
              "    </div>\n",
              "  </div>\n",
              "  "
            ]
          },
          "metadata": {},
          "execution_count": 25
        }
      ]
    },
    {
      "cell_type": "code",
      "source": [
        "print(\"Average Mileage of Automatic cars:\", cars_Automatic.Mileage.mean())\n",
        "print(\"Average Mileage of Manual cars:\", cars_Manual.Mileage.mean())"
      ],
      "metadata": {
        "colab": {
          "base_uri": "https://localhost:8080/"
        },
        "id": "-U3r21Kk4CFd",
        "outputId": "d124b962-41e4-486a-b92d-ea1c95353524"
      },
      "execution_count": null,
      "outputs": [
        {
          "output_type": "stream",
          "name": "stdout",
          "text": [
            "Average Mileage of Automatic cars: 15.745466237942114\n",
            "Average Mileage of Manual cars: 19.112636363636376\n"
          ]
        }
      ]
    },
    {
      "cell_type": "code",
      "source": [
        "print(\"Manual Cars' Measures\")\n",
        "print(\"Mean of Manual cars:\", cars_Manual.mean())\n",
        "print(\"Mean Mileage of Manual cars:\", cars_Manual.Mileage.mean())\n",
        "print(\"Standard Deviation of Manual cars:\", cars_Manual.Mileage.std())"
      ],
      "metadata": {
        "colab": {
          "base_uri": "https://localhost:8080/"
        },
        "id": "vOaYmKf7BH4M",
        "outputId": "e2370353-aa6e-405e-927e-1287d2b03ce5"
      },
      "execution_count": null,
      "outputs": [
        {
          "output_type": "stream",
          "name": "stdout",
          "text": [
            "Manual Cars' Measures\n",
            "Mean of Manual cars: index            419.719715\n",
            "Price            726.180523\n",
            "BootSpace        377.796407\n",
            "Engine          1450.389021\n",
            "FuelCapacity      44.213777\n",
            "Mileage           19.112636\n",
            "dtype: float64\n",
            "Mean Mileage of Manual cars: 19.112636363636376\n",
            "Standard Deviation of Manual cars: 3.7554266333765174\n"
          ]
        },
        {
          "output_type": "stream",
          "name": "stderr",
          "text": [
            "/usr/local/lib/python3.7/dist-packages/ipykernel_launcher.py:2: FutureWarning: Dropping of nuisance columns in DataFrame reductions (with 'numeric_only=None') is deprecated; in a future version this will raise TypeError.  Select only valid columns before calling the reduction.\n",
            "  \n"
          ]
        }
      ]
    },
    {
      "cell_type": "code",
      "source": [
        "#Why was this done??\n",
        "#Confidence interval of manual cars\n",
        "stats.norm.interval(0.95, loc=cars_Manual.Mileage.mean(), scale = cars_Manual.Mileage.std()/np.sqrt(len(cars_Manual)))"
      ],
      "metadata": {
        "colab": {
          "base_uri": "https://localhost:8080/"
        },
        "id": "ST9YbAPGBr1t",
        "outputId": "575d0e0b-6c23-47d4-9a7d-eff2993a28a4"
      },
      "execution_count": null,
      "outputs": [
        {
          "output_type": "execute_result",
          "data": {
            "text/plain": [
              "(18.753907497306884, 19.47136522996587)"
            ]
          },
          "metadata": {},
          "execution_count": 37
        }
      ]
    },
    {
      "cell_type": "code",
      "source": [
        "print(\"Automatic Cars' Measures\")\n",
        "print(\"Mean of Automatic cars:\", cars_Automatic.mean())\n",
        "print(\"Mean Mileage of Automatic cars:\", cars_Automatic.Mileage.mean())\n",
        "print(\"Standard Deviation of Automatic cars:\", cars_Automatic.Mileage.std())"
      ],
      "metadata": {
        "colab": {
          "base_uri": "https://localhost:8080/"
        },
        "id": "pOcEuwj1BOpu",
        "outputId": "da57cebe-f473-40a6-e2a1-7ed978d198c2"
      },
      "execution_count": null,
      "outputs": [
        {
          "output_type": "stream",
          "name": "stdout",
          "text": [
            "Automatic Cars' Measures\n",
            "Mean of Automatic cars: index            413.787634\n",
            "Price           6075.650538\n",
            "BootSpace        439.498328\n",
            "Engine          2421.864499\n",
            "FuelCapacity      60.094892\n",
            "Mileage           15.745466\n",
            "dtype: float64\n",
            "Mean Mileage of Automatic cars: 15.745466237942114\n",
            "Standard Deviation of Automatic cars: 4.792689092099954\n"
          ]
        },
        {
          "output_type": "stream",
          "name": "stderr",
          "text": [
            "/usr/local/lib/python3.7/dist-packages/ipykernel_launcher.py:2: FutureWarning: Dropping of nuisance columns in DataFrame reductions (with 'numeric_only=None') is deprecated; in a future version this will raise TypeError.  Select only valid columns before calling the reduction.\n",
            "  \n"
          ]
        }
      ]
    },
    {
      "cell_type": "code",
      "source": [
        "stats.norm.interval(0.95, loc=cars_Automatic.Mileage.mean(), scale = cars_Automatic.Mileage.std()/np.sqrt(len(cars_Automatic)))"
      ],
      "metadata": {
        "colab": {
          "base_uri": "https://localhost:8080/"
        },
        "id": "Q-jNVte7B3-h",
        "outputId": "90e02543-3e72-4fd6-9b98-6aa8c75de7a9"
      },
      "execution_count": null,
      "outputs": [
        {
          "output_type": "execute_result",
          "data": {
            "text/plain": [
              "(15.258436053916315, 16.232496421967912)"
            ]
          },
          "metadata": {},
          "execution_count": 39
        }
      ]
    },
    {
      "cell_type": "code",
      "source": [
        "print(\"Effect size:\", cars_Manual.Mileage.mean() - cars_Automatic.Mileage.mean())"
      ],
      "metadata": {
        "colab": {
          "base_uri": "https://localhost:8080/"
        },
        "id": "u6eUmzQH4Dxj",
        "outputId": "c2b94185-fab9-4c89-acf5-9b4dba8738c1"
      },
      "execution_count": null,
      "outputs": [
        {
          "output_type": "stream",
          "name": "stdout",
          "text": [
            "Effect size: 3.367170125694262\n"
          ]
        }
      ]
    },
    {
      "cell_type": "code",
      "source": [
        "stats.ttest_ind(cars_Manual.Mileage, cars_Automatic.Mileage, equal_var=True)\n",
        "\n",
        "stats.ttest_ind(cars_Manual.dropna()['Mileage'], cars_Automatic.dropna()['Mileage'])"
      ],
      "metadata": {
        "colab": {
          "base_uri": "https://localhost:8080/"
        },
        "id": "wGDy8KkKCCMv",
        "outputId": "91e607ba-a5c6-435b-e571-ef192d244545"
      },
      "execution_count": null,
      "outputs": [
        {
          "output_type": "execute_result",
          "data": {
            "text/plain": [
              "Ttest_indResult(statistic=10.524273397307502, pvalue=1.449502897572518e-23)"
            ]
          },
          "metadata": {},
          "execution_count": 46
        }
      ]
    },
    {
      "cell_type": "code",
      "source": [
        "stats.shapiro(cars_Manual.dropna()['Mileage'])"
      ],
      "metadata": {
        "colab": {
          "base_uri": "https://localhost:8080/"
        },
        "id": "h9EbE2ExCvrU",
        "outputId": "57fc3ea5-a2e6-497e-8dec-677aac076eba"
      },
      "execution_count": null,
      "outputs": [
        {
          "output_type": "execute_result",
          "data": {
            "text/plain": [
              "(0.9864928722381592, 0.01601545698940754)"
            ]
          },
          "metadata": {},
          "execution_count": 50
        }
      ]
    },
    {
      "cell_type": "code",
      "source": [
        "stats.shapiro(cars_Automatic.dropna()['Mileage'])"
      ],
      "metadata": {
        "id": "L0Nqys7mDYEC",
        "outputId": "30dcdf22-3c88-44b2-8530-854391d9e22b",
        "colab": {
          "base_uri": "https://localhost:8080/"
        }
      },
      "execution_count": null,
      "outputs": [
        {
          "output_type": "execute_result",
          "data": {
            "text/plain": [
              "(0.989201545715332, 0.056009773164987564)"
            ]
          },
          "metadata": {},
          "execution_count": 51
        }
      ]
    },
    {
      "cell_type": "code",
      "source": [
        ""
      ],
      "metadata": {
        "id": "yo866fbFDdwQ"
      },
      "execution_count": null,
      "outputs": []
    }
  ]
}