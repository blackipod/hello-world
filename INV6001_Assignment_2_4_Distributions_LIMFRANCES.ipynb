{
  "nbformat": 4,
  "nbformat_minor": 0,
  "metadata": {
    "colab": {
      "name": "INV6001 - Assignment 2 - #4 Distributions - LIMFRANCES.ipynb",
      "provenance": [],
      "authorship_tag": "ABX9TyOrahrJLPgQz23KkVrSlqkN",
      "include_colab_link": true
    },
    "kernelspec": {
      "name": "python3",
      "display_name": "Python 3"
    },
    "language_info": {
      "name": "python"
    }
  },
  "cells": [
    {
      "cell_type": "markdown",
      "metadata": {
        "id": "view-in-github",
        "colab_type": "text"
      },
      "source": [
        "<a href=\"https://colab.research.google.com/github/blackipod/hello-world/blob/main/INV6001_Assignment_2_4_Distributions_LIMFRANCES.ipynb\" target=\"_parent\"><img src=\"https://colab.research.google.com/assets/colab-badge.svg\" alt=\"Open In Colab\"/></a>"
      ]
    },
    {
      "cell_type": "markdown",
      "source": [
        "Code from https://github.com/amitkaps/hackermath/blob/master/Module_2d_Distributions.ipynb "
      ],
      "metadata": {
        "id": "f23lkuukCeAq"
      }
    },
    {
      "cell_type": "code",
      "execution_count": 1,
      "metadata": {
        "id": "rKZISCXd60xu"
      },
      "outputs": [],
      "source": [
        "import pandas as pd\n",
        "import seaborn as sns\n",
        "sns.set(color_codes=True)\n",
        "%matplotlib inline"
      ]
    },
    {
      "cell_type": "code",
      "source": [
        "#always get raw version from github!!\n",
        "url = 'https://raw.githubusercontent.com/blackipod/hello-world/main/cars_v1.csv'"
      ],
      "metadata": {
        "id": "elt1knCG7EBf"
      },
      "execution_count": 14,
      "outputs": []
    },
    {
      "cell_type": "code",
      "source": [
        "#important, add encoding=\"ISO-8859-1\"\n",
        "cars = pd.read_csv(url, encoding=\"ISO-8859-1\")"
      ],
      "metadata": {
        "id": "cwI_VRGW7KU6"
      },
      "execution_count": 16,
      "outputs": []
    },
    {
      "cell_type": "code",
      "source": [
        "cars.Mileage.fillna(cars.Mileage.mean(), inplace=True)"
      ],
      "metadata": {
        "id": "f0X8eatz9xsb"
      },
      "execution_count": 17,
      "outputs": []
    },
    {
      "cell_type": "code",
      "source": [
        "sns.distplot(cars.Mileage, kde=False)"
      ],
      "metadata": {
        "colab": {
          "base_uri": "https://localhost:8080/",
          "height": 357
        },
        "id": "fmz2szQZ-d0u",
        "outputId": "939ac29b-4656-4594-a607-5e69530a6d15"
      },
      "execution_count": 18,
      "outputs": [
        {
          "output_type": "stream",
          "name": "stderr",
          "text": [
            "/usr/local/lib/python3.7/dist-packages/seaborn/distributions.py:2619: FutureWarning: `distplot` is a deprecated function and will be removed in a future version. Please adapt your code to use either `displot` (a figure-level function with similar flexibility) or `histplot` (an axes-level function for histograms).\n",
            "  warnings.warn(msg, FutureWarning)\n"
          ]
        },
        {
          "output_type": "execute_result",
          "data": {
            "text/plain": [
              "<matplotlib.axes._subplots.AxesSubplot at 0x7fb2e5951690>"
            ]
          },
          "metadata": {},
          "execution_count": 18
        },
        {
          "output_type": "display_data",
          "data": {
            "text/plain": [
              "<Figure size 432x288 with 1 Axes>"
            ],
            "image/png": "[encoded data removed]"
          },
          "metadata": {
            "needs_background": "light"
          }
        }
      ]
    },
    {
      "cell_type": "code",
      "source": [
        "sns.distplot(cars.Mileage, bins=range(0,50,1))"
      ],
      "metadata": {
        "colab": {
          "base_uri": "https://localhost:8080/",
          "height": 357
        },
        "id": "GU53aqUR-f4v",
        "outputId": "aaff72cd-38ad-4c5f-cc49-346bd135865a"
      },
      "execution_count": 19,
      "outputs": [
        {
          "output_type": "stream",
          "name": "stderr",
          "text": [
            "/usr/local/lib/python3.7/dist-packages/seaborn/distributions.py:2619: FutureWarning: `distplot` is a deprecated function and will be removed in a future version. Please adapt your code to use either `displot` (a figure-level function with similar flexibility) or `histplot` (an axes-level function for histograms).\n",
            "  warnings.warn(msg, FutureWarning)\n"
          ]
        },
        {
          "output_type": "execute_result",
          "data": {
            "text/plain": [
              "<matplotlib.axes._subplots.AxesSubplot at 0x7fb302f49450>"
            ]
          },
          "metadata": {},
          "execution_count": 19
        },
        {
          "output_type": "display_data",
          "data": {
            "text/plain": [
              "<Figure size 432x288 with 1 Axes>"
            ],
            "image/png": "[encoded data removed]"
          },
          "metadata": {
            "needs_background": "light"
          }
        }
      ]
    },
    {
      "cell_type": "code",
      "source": [
        "from scipy import stats\n",
        "import scipy as sp\n",
        "import numpy as np\n",
        "import matplotlib as mpl\n",
        "from matplotlib import pyplot as plt\n",
        "%matplotlib inline"
      ],
      "metadata": {
        "id": "PLjFRj36-lp4"
      },
      "execution_count": 25,
      "outputs": []
    },
    {
      "cell_type": "code",
      "source": [
        "random_normal = sp.randn(100)\n",
        "plt.scatter(range(100), random_normal)"
      ],
      "metadata": {
        "colab": {
          "base_uri": "https://localhost:8080/",
          "height": 340
        },
        "id": "79dNbZUc-sX2",
        "outputId": "d3bb161e-53a9-4ea5-b9c7-edfa29c0346d"
      },
      "execution_count": 26,
      "outputs": [
        {
          "output_type": "stream",
          "name": "stderr",
          "text": [
            "/usr/local/lib/python3.7/dist-packages/ipykernel_launcher.py:1: DeprecationWarning: scipy.randn is deprecated and will be removed in SciPy 2.0.0, use numpy.random.randn instead\n",
            "  \"\"\"Entry point for launching an IPython kernel.\n"
          ]
        },
        {
          "output_type": "execute_result",
          "data": {
            "text/plain": [
              "<matplotlib.collections.PathCollection at 0x7fb2e1132310>"
            ]
          },
          "metadata": {},
          "execution_count": 26
        },
        {
          "output_type": "display_data",
          "data": {
            "text/plain": [
              "<Figure size 432x288 with 1 Axes>"
            ],
            "image/png": "[encoded data removed]"
          },
          "metadata": {
            "needs_background": "light"
          }
        }
      ]
    },
    {
      "cell_type": "code",
      "source": [
        "print (\"mean:\", random_normal.mean(),\"\\n\",  \"variance:\", random_normal.var())\n",
        "\n",
        "n = stats.norm(loc=2.5, scale=1.7)\n",
        "\n",
        "#.rvs is to generate random variable for scipy\n",
        "print(\"New random number =\", n.rvs())\n",
        "\n",
        "#what is the pdf at 0.3 for the normal distribution?\n",
        "print(\"PDF =\", n.pdf(0.3))\n",
        "\n",
        "#binomial distribution with p = 0.4, no. of trials = 15\n",
        "stats.binom.pmf(range(15), 10, 0.4)"
      ],
      "metadata": {
        "colab": {
          "base_uri": "https://localhost:8080/"
        },
        "id": "T544TdMM-6Rq",
        "outputId": "887f6f97-2eb2-4169-fd7a-7ed9b0395307"
      },
      "execution_count": 41,
      "outputs": [
        {
          "output_type": "stream",
          "name": "stdout",
          "text": [
            "mean: 0.1645789197409952 \n",
            " variance: 0.9720483420018042\n",
            "New random number = 2.329854764500409\n",
            "PDF = 0.10157711386142985\n"
          ]
        },
        {
          "output_type": "execute_result",
          "data": {
            "text/plain": [
              "array([6.04661760e-03, 4.03107840e-02, 1.20932352e-01, 2.14990848e-01,\n",
              "       2.50822656e-01, 2.00658125e-01, 1.11476736e-01, 4.24673280e-02,\n",
              "       1.06168320e-02, 1.57286400e-03, 1.04857600e-04, 0.00000000e+00,\n",
              "       0.00000000e+00, 0.00000000e+00, 0.00000000e+00])"
            ]
          },
          "metadata": {},
          "execution_count": 41
        }
      ]
    },
    {
      "cell_type": "code",
      "source": [
        "?stats.binom"
      ],
      "metadata": {
        "id": "ZHUDeQ63_PXH"
      },
      "execution_count": 38,
      "outputs": []
    },
    {
      "cell_type": "markdown",
      "source": [
        "#Standard Error"
      ],
      "metadata": {
        "id": "tzrj3jsbAPEq"
      }
    },
    {
      "cell_type": "code",
      "source": [
        "cars.head()"
      ],
      "metadata": {
        "colab": {
          "base_uri": "https://localhost:8080/",
          "height": 424
        },
        "id": "jtDuNU_gARAt",
        "outputId": "ef3ab29b-d859-4697-d5dd-8538db948ec2"
      },
      "execution_count": 39,
      "outputs": [
        {
          "output_type": "execute_result",
          "data": {
            "text/plain": [
              "                  Make                                        Model  Price  \\\n",
              "0  Ashok Leyland Stile        Ashok Leyland Stile LE 8-STR (Diesel)    750   \n",
              "1  Ashok Leyland Stile        Ashok Leyland Stile LS 8-STR (Diesel)    800   \n",
              "2  Ashok Leyland Stile        Ashok Leyland Stile LX 8-STR (Diesel)    830   \n",
              "3  Ashok Leyland Stile        Ashok Leyland Stile LS 7-STR (Diesel)    850   \n",
              "4  Ashok Leyland Stile  Ashok Leyland Stile LS 7-STR Alloy (Diesel)    880   \n",
              "\n",
              "  Type  ABS  BootSpace GearType AirBag  Engine  FuelCapacity  Mileage  \n",
              "0  MPV   No      500.0   Manual     No  1461.0          50.0     20.7  \n",
              "1  MPV   No      500.0   Manual     No  1461.0          50.0     20.7  \n",
              "2  MPV   No      500.0   Manual     No  1461.0          50.0     20.7  \n",
              "3  MPV   No      500.0   Manual     No  1461.0          50.0     20.7  \n",
              "4  MPV   No      500.0   Manual     No  1461.0          50.0     20.7  "
            ],
            "text/html": [
              "\n",
              "  <div id=\"df-d247c24b-f9db-4aad-911e-22f009242125\">\n",
              "    <div class=\"colab-df-container\">\n",
              "      <div>\n",
              "<style scoped>\n",
              "    .dataframe tbody tr th:only-of-type {\n",
              "        vertical-align: middle;\n",
              "    }\n",
              "\n",
              "    .dataframe tbody tr th {\n",
              "        vertical-align: top;\n",
              "    }\n",
              "\n",
              "    .dataframe thead th {\n",
              "        text-align: right;\n",
              "    }\n",
              "</style>\n",
              "<table border=\"1\" class=\"dataframe\">\n",
              "  <thead>\n",
              "    <tr style=\"text-align: right;\">\n",
              "      <th></th>\n",
              "      <th>Make</th>\n",
              "      <th>Model</th>\n",
              "      <th>Price</th>\n",
              "      <th>Type</th>\n",
              "      <th>ABS</th>\n",
              "      <th>BootSpace</th>\n",
              "      <th>GearType</th>\n",
              "      <th>AirBag</th>\n",
              "      <th>Engine</th>\n",
              "      <th>FuelCapacity</th>\n",
              "      <th>Mileage</th>\n",
              "    </tr>\n",
              "  </thead>\n",
              "  <tbody>\n",
              "    <tr>\n",
              "      <th>0</th>\n",
              "      <td>Ashok Leyland Stile</td>\n",
              "      <td>Ashok Leyland Stile LE 8-STR (Diesel)</td>\n",
              "      <td>750</td>\n",
              "      <td>MPV</td>\n",
              "      <td>No</td>\n",
              "      <td>500.0</td>\n",
              "      <td>Manual</td>\n",
              "      <td>No</td>\n",
              "      <td>1461.0</td>\n",
              "      <td>50.0</td>\n",
              "      <td>20.7</td>\n",
              "    </tr>\n",
              "    <tr>\n",
              "      <th>1</th>\n",
              "      <td>Ashok Leyland Stile</td>\n",
              "      <td>Ashok Leyland Stile LS 8-STR (Diesel)</td>\n",
              "      <td>800</td>\n",
              "      <td>MPV</td>\n",
              "      <td>No</td>\n",
              "      <td>500.0</td>\n",
              "      <td>Manual</td>\n",
              "      <td>No</td>\n",
              "      <td>1461.0</td>\n",
              "      <td>50.0</td>\n",
              "      <td>20.7</td>\n",
              "    </tr>\n",
              "    <tr>\n",
              "      <th>2</th>\n",
              "      <td>Ashok Leyland Stile</td>\n",
              "      <td>Ashok Leyland Stile LX 8-STR (Diesel)</td>\n",
              "      <td>830</td>\n",
              "      <td>MPV</td>\n",
              "      <td>No</td>\n",
              "      <td>500.0</td>\n",
              "      <td>Manual</td>\n",
              "      <td>No</td>\n",
              "      <td>1461.0</td>\n",
              "      <td>50.0</td>\n",
              "      <td>20.7</td>\n",
              "    </tr>\n",
              "    <tr>\n",
              "      <th>3</th>\n",
              "      <td>Ashok Leyland Stile</td>\n",
              "      <td>Ashok Leyland Stile LS 7-STR (Diesel)</td>\n",
              "      <td>850</td>\n",
              "      <td>MPV</td>\n",
              "      <td>No</td>\n",
              "      <td>500.0</td>\n",
              "      <td>Manual</td>\n",
              "      <td>No</td>\n",
              "      <td>1461.0</td>\n",
              "      <td>50.0</td>\n",
              "      <td>20.7</td>\n",
              "    </tr>\n",
              "    <tr>\n",
              "      <th>4</th>\n",
              "      <td>Ashok Leyland Stile</td>\n",
              "      <td>Ashok Leyland Stile LS 7-STR Alloy (Diesel)</td>\n",
              "      <td>880</td>\n",
              "      <td>MPV</td>\n",
              "      <td>No</td>\n",
              "      <td>500.0</td>\n",
              "      <td>Manual</td>\n",
              "      <td>No</td>\n",
              "      <td>1461.0</td>\n",
              "      <td>50.0</td>\n",
              "      <td>20.7</td>\n",
              "    </tr>\n",
              "  </tbody>\n",
              "</table>\n",
              "</div>\n",
              "      <button class=\"colab-df-convert\" onclick=\"convertToInteractive('df-d247c24b-f9db-4aad-911e-22f009242125')\"\n",
              "              title=\"Convert this dataframe to an interactive table.\"\n",
              "              style=\"display:none;\">\n",
              "        \n",
              "  <svg xmlns=\"http://www.w3.org/2000/svg\" height=\"24px\"viewBox=\"0 0 24 24\"\n",
              "       width=\"24px\">\n",
              "    <path d=\"M0 0h24v24H0V0z\" fill=\"none\"/>\n",
              "    <path d=\"M18.56 5.44l.94 2.06.94-2.06 2.06-.94-2.06-.94-.94-2.06-.94 2.06-2.06.94zm-11 1L8.5 8.5l.94-2.06 2.06-.94-2.06-.94L8.5 2.5l-.94 2.06-2.06.94zm10 10l.94 2.06.94-2.06 2.06-.94-2.06-.94-.94-2.06-.94 2.06-2.06.94z\"/><path d=\"M17.41 7.96l-1.37-1.37c-.4-.4-.92-.59-1.43-.59-.52 0-1.04.2-1.43.59L10.3 9.45l-7.72 7.72c-.78.78-.78 2.05 0 2.83L4 21.41c.39.39.9.59 1.41.59.51 0 1.02-.2 1.41-.59l7.78-7.78 2.81-2.81c.8-.78.8-2.07 0-2.86zM5.41 20L4 18.59l7.72-7.72 1.47 1.35L5.41 20z\"/>\n",
              "  </svg>\n",
              "      </button>\n",
              "      \n",
              "  <style>\n",
              "    .colab-df-container {\n",
              "      display:flex;\n",
              "      flex-wrap:wrap;\n",
              "      gap: 12px;\n",
              "    }\n",
              "\n",
              "    .colab-df-convert {\n",
              "      background-color: #E8F0FE;\n",
              "      border: none;\n",
              "      border-radius: 50%;\n",
              "      cursor: pointer;\n",
              "      display: none;\n",
              "      fill: #1967D2;\n",
              "      height: 32px;\n",
              "      padding: 0 0 0 0;\n",
              "      width: 32px;\n",
              "    }\n",
              "\n",
              "    .colab-df-convert:hover {\n",
              "      background-color: #E2EBFA;\n",
              "      box-shadow: 0px 1px 2px rgba(60, 64, 67, 0.3), 0px 1px 3px 1px rgba(60, 64, 67, 0.15);\n",
              "      fill: #174EA6;\n",
              "    }\n",
              "\n",
              "    [theme=dark] .colab-df-convert {\n",
              "      background-color: #3B4455;\n",
              "      fill: #D2E3FC;\n",
              "    }\n",
              "\n",
              "    [theme=dark] .colab-df-convert:hover {\n",
              "      background-color: #434B5C;\n",
              "      box-shadow: 0px 1px 3px 1px rgba(0, 0, 0, 0.15);\n",
              "      filter: drop-shadow(0px 1px 2px rgba(0, 0, 0, 0.3));\n",
              "      fill: #FFFFFF;\n",
              "    }\n",
              "  </style>\n",
              "\n",
              "      <script>\n",
              "        const buttonEl =\n",
              "          document.querySelector('#df-d247c24b-f9db-4aad-911e-22f009242125 button.colab-df-convert');\n",
              "        buttonEl.style.display =\n",
              "          google.colab.kernel.accessAllowed ? 'block' : 'none';\n",
              "\n",
              "        async function convertToInteractive(key) {\n",
              "          const element = document.querySelector('#df-d247c24b-f9db-4aad-911e-22f009242125');\n",
              "          const dataTable =\n",
              "            await google.colab.kernel.invokeFunction('convertToInteractive',\n",
              "                                                     [key], {});\n",
              "          if (!dataTable) return;\n",
              "\n",
              "          const docLinkHtml = 'Like what you see? Visit the ' +\n",
              "            '<a target=\"_blank\" href=https://colab.research.google.com/notebooks/data_table.ipynb>data table notebook</a>'\n",
              "            + ' to learn more about interactive tables.';\n",
              "          element.innerHTML = '';\n",
              "          dataTable['output_type'] = 'display_data';\n",
              "          await google.colab.output.renderOutput(dataTable, element);\n",
              "          const docLink = document.createElement('div');\n",
              "          docLink.innerHTML = docLinkHtml;\n",
              "          element.appendChild(docLink);\n",
              "        }\n",
              "      </script>\n",
              "    </div>\n",
              "  </div>\n",
              "  "
            ]
          },
          "metadata": {},
          "execution_count": 39
        }
      ]
    },
    {
      "cell_type": "code",
      "source": [
        "print(\" Sample Mean:\", cars.Mileage.mean(),\"\\n\", \"Sample Standard Deviation\", cars.Mileage.std())"
      ],
      "metadata": {
        "colab": {
          "base_uri": "https://localhost:8080/"
        },
        "id": "nkMIvKqBAY2j",
        "outputId": "6f9f56fb-2e8e-4b37-f4e8-f31950a8a25b"
      },
      "execution_count": 40,
      "outputs": [
        {
          "output_type": "stream",
          "name": "stdout",
          "text": [
            " Sample Mean: 17.480407854984836 \n",
            " Sample Standard Deviation 4.086421315837099\n"
          ]
        }
      ]
    },
    {
      "cell_type": "code",
      "source": [
        "print(\"Max Mileage:\", cars.Mileage.max(), \"\\n\", \"Min Mileage:\", cars.Mileage.min())"
      ],
      "metadata": {
        "colab": {
          "base_uri": "https://localhost:8080/"
        },
        "id": "0XpCExCbAp5H",
        "outputId": "fb2bd863-4ccd-4c58-a0fb-608ebd5e7fcb"
      },
      "execution_count": 42,
      "outputs": [
        {
          "output_type": "stream",
          "name": "stdout",
          "text": [
            "Max Mileage: 30.0 \n",
            " Min Mileage: 5.0\n"
          ]
        }
      ]
    },
    {
      "cell_type": "code",
      "source": [
        "def squared_error(bootstrap_sample, actual_mean):\n",
        "  return np.square(bootstrap_sample.mean() - actual_mean)\n",
        "\n",
        "def experiment_for_computing_standard_error(observed_mileage, n_times, actual_mean):\n",
        "  bootstrap_mean = np.empty([n_times,1], dtype=np.int32)\n",
        "  bootstrap_sample = np.random.choice(observed_mileage, size=[observed_mileage.size, n_times], replace=True)\n",
        "  bootstrap_squared_error = np.apply_along_axis(squared_error, 1, bootstrap_sample, actual_mean)\n",
        "\n",
        "  return np.sqrt(bootstrap_squared_error.mean())\n"
      ],
      "metadata": {
        "id": "S8WxJEDsA2tA"
      },
      "execution_count": 43,
      "outputs": []
    },
    {
      "cell_type": "code",
      "source": [
        "experiment_for_computing_standard_error(np.array(cars.Mileage), 10, 22.7)"
      ],
      "metadata": {
        "colab": {
          "base_uri": "https://localhost:8080/"
        },
        "id": "WEnS7sGyB7vK",
        "outputId": "ca9dc79f-b9fc-408b-b0d5-1ea96fee1444"
      },
      "execution_count": 44,
      "outputs": [
        {
          "output_type": "execute_result",
          "data": {
            "text/plain": [
              "5.411129140948524"
            ]
          },
          "metadata": {},
          "execution_count": 44
        }
      ]
    }
  ]
}