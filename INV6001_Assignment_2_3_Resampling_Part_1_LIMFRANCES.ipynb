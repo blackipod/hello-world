{
  "nbformat": 4,
  "nbformat_minor": 0,
  "metadata": {
    "colab": {
      "name": "INV6001 - Assignment 2 - #3 Resampling Part 1 - LIMFRANCES.ipynb",
      "provenance": [],
      "authorship_tag": "ABX9TyO85OPFdhpQS0VyGDuC11cc",
      "include_colab_link": true
    },
    "kernelspec": {
      "name": "python3",
      "display_name": "Python 3"
    },
    "language_info": {
      "name": "python"
    }
  },
  "cells": [
    {
      "cell_type": "markdown",
      "metadata": {
        "id": "view-in-github",
        "colab_type": "text"
      },
      "source": [
        "<a href=\"https://colab.research.google.com/github/blackipod/hello-world/blob/main/INV6001_Assignment_2_3_Resampling_Part_1_LIMFRANCES.ipynb\" target=\"_parent\"><img src=\"https://colab.research.google.com/assets/colab-badge.svg\" alt=\"Open In Colab\"/></a>"
      ]
    },
    {
      "cell_type": "code",
      "execution_count": null,
      "metadata": {
        "id": "oUt7AMXLngWt"
      },
      "outputs": [],
      "source": [
        "import numpy as np\n",
        "import seaborn as sns\n",
        "sns.set(color_codes=True)\n",
        "%matplotlib inline"
      ]
    },
    {
      "cell_type": "code",
      "source": [
        "#Load the data\n",
        "before_opt=np.array([23,21,19,24,35,17,18,24,33,27,21,23])\n",
        "after_opt=np.array([31,28,19,24,32,27,16,41,23,32,29,33])"
      ],
      "metadata": {
        "id": "c7MqlLlaoVj7"
      },
      "execution_count": null,
      "outputs": []
    },
    {
      "cell_type": "code",
      "source": [
        "before_opt.mean()"
      ],
      "metadata": {
        "colab": {
          "base_uri": "https://localhost:8080/"
        },
        "id": "yP_o5UPboidk",
        "outputId": "c86ba763-b068-4c6b-f069-4036551533c1"
      },
      "execution_count": null,
      "outputs": [
        {
          "output_type": "execute_result",
          "data": {
            "text/plain": [
              "23.75"
            ]
          },
          "metadata": {},
          "execution_count": 3
        }
      ]
    },
    {
      "cell_type": "code",
      "source": [
        "after_opt.mean()"
      ],
      "metadata": {
        "colab": {
          "base_uri": "https://localhost:8080/"
        },
        "id": "PjOyTLvPoj2M",
        "outputId": "7b9f75de-3ebc-499a-8198-d5bf6ba3e64b"
      },
      "execution_count": null,
      "outputs": [
        {
          "output_type": "execute_result",
          "data": {
            "text/plain": [
              "27.916666666666668"
            ]
          },
          "metadata": {},
          "execution_count": 4
        }
      ]
    },
    {
      "cell_type": "code",
      "source": [
        "observed_difference = after_opt.mean()-before_opt.mean()"
      ],
      "metadata": {
        "id": "FlFmszlnolHA"
      },
      "execution_count": null,
      "outputs": []
    },
    {
      "cell_type": "code",
      "source": [
        "print(\"Difference between before and after optimization is:\", observed_difference)\n",
        "\n",
        "#But is this a valid measure?"
      ],
      "metadata": {
        "colab": {
          "base_uri": "https://localhost:8080/"
        },
        "id": "8v7y0fmOoo9q",
        "outputId": "a6f5a6fb-58bf-4256-e285-5d9278ea07ee"
      },
      "execution_count": null,
      "outputs": [
        {
          "output_type": "stream",
          "name": "stdout",
          "text": [
            "Difference between before and after optimization is: 4.166666666666668\n"
          ]
        }
      ]
    },
    {
      "cell_type": "code",
      "source": [
        "# before_opt would have \"Label 0\"\n",
        "# after_opt would have \"Label 1\""
      ],
      "metadata": {
        "id": "UMOiYE_douu9"
      },
      "execution_count": null,
      "outputs": []
    },
    {
      "cell_type": "code",
      "source": [
        "shoe_sales = np.array([np.append(np.zeros(before_opt.shape[0]), np.ones(after_opt.shape[0])), np.append(before_opt, after_opt)], dtype=int)"
      ],
      "metadata": {
        "id": "8FsyrOqmpDZY"
      },
      "execution_count": null,
      "outputs": []
    },
    {
      "cell_type": "code",
      "source": [
        "print(\"Shape:\", shoe_sales.shape)\n",
        "print(\"Data:\", \"\\n\", shoe_sales)"
      ],
      "metadata": {
        "colab": {
          "base_uri": "https://localhost:8080/"
        },
        "id": "StF_7jmnpI4M",
        "outputId": "f346340c-5f75-43d4-ac98-7fbc26fab284"
      },
      "execution_count": null,
      "outputs": [
        {
          "output_type": "stream",
          "name": "stdout",
          "text": [
            "Shape: (2, 24)\n",
            "Data: \n",
            " [[ 0  0  0  0  0  0  0  0  0  0  0  0  1  1  1  1  1  1  1  1  1  1  1  1]\n",
            " [23 21 19 24 35 17 18 24 33 27 21 23 31 28 19 24 32 27 16 41 23 32 29 33]]\n"
          ]
        }
      ]
    },
    {
      "cell_type": "code",
      "source": [
        "shoe_sales = shoe_sales.T\n",
        "print(\"Shape:\", shoe_sales.shape)\n",
        "print(\"Data:\", \"\\n\", shoe_sales)"
      ],
      "metadata": {
        "colab": {
          "base_uri": "https://localhost:8080/"
        },
        "id": "F9nR9B62q9qW",
        "outputId": "f11572cb-bec0-4ba2-8fde-d87027b24797"
      },
      "execution_count": null,
      "outputs": [
        {
          "output_type": "stream",
          "name": "stdout",
          "text": [
            "Shape: (24, 2)\n",
            "Data: \n",
            " [[ 0 23]\n",
            " [ 0 21]\n",
            " [ 0 19]\n",
            " [ 0 24]\n",
            " [ 0 35]\n",
            " [ 0 17]\n",
            " [ 0 18]\n",
            " [ 0 24]\n",
            " [ 0 33]\n",
            " [ 0 27]\n",
            " [ 0 21]\n",
            " [ 0 23]\n",
            " [ 1 31]\n",
            " [ 1 28]\n",
            " [ 1 19]\n",
            " [ 1 24]\n",
            " [ 1 32]\n",
            " [ 1 27]\n",
            " [ 1 16]\n",
            " [ 1 41]\n",
            " [ 1 23]\n",
            " [ 1 32]\n",
            " [ 1 29]\n",
            " [ 1 33]]\n"
          ]
        }
      ]
    },
    {
      "cell_type": "code",
      "source": [
        "np.random.shuffle(shoe_sales)\n",
        "\n",
        "shoe_sales"
      ],
      "metadata": {
        "colab": {
          "base_uri": "https://localhost:8080/"
        },
        "id": "NfIOZGkarhcw",
        "outputId": "11f87987-ded4-422b-e5c7-000b0c21d595"
      },
      "execution_count": null,
      "outputs": [
        {
          "output_type": "execute_result",
          "data": {
            "text/plain": [
              "array([[ 0, 35],\n",
              "       [ 0, 17],\n",
              "       [ 1, 19],\n",
              "       [ 1, 24],\n",
              "       [ 1, 41],\n",
              "       [ 0, 24],\n",
              "       [ 0, 27],\n",
              "       [ 1, 32],\n",
              "       [ 0, 21],\n",
              "       [ 1, 31],\n",
              "       [ 1, 27],\n",
              "       [ 1, 33],\n",
              "       [ 1, 16],\n",
              "       [ 1, 23],\n",
              "       [ 1, 28],\n",
              "       [ 1, 32],\n",
              "       [ 0, 23],\n",
              "       [ 0, 24],\n",
              "       [ 0, 33],\n",
              "       [ 0, 23],\n",
              "       [ 0, 18],\n",
              "       [ 0, 21],\n",
              "       [ 1, 29],\n",
              "       [ 0, 19]])"
            ]
          },
          "metadata": {},
          "execution_count": 31
        }
      ]
    },
    {
      "cell_type": "code",
      "source": [
        "experiment_label = np.random.randint(0,2, shoe_sales.shape[0])\n",
        "experiment_label"
      ],
      "metadata": {
        "colab": {
          "base_uri": "https://localhost:8080/"
        },
        "id": "HpRtB7rkrthG",
        "outputId": "67f7dd74-3b6c-47fd-d5b5-b6a4a31197f9"
      },
      "execution_count": null,
      "outputs": [
        {
          "output_type": "execute_result",
          "data": {
            "text/plain": [
              "array([0, 1, 1, 1, 1, 0, 0, 1, 0, 1, 1, 0, 1, 1, 0, 1, 0, 1, 0, 1, 0, 0,\n",
              "       0, 0])"
            ]
          },
          "metadata": {},
          "execution_count": 33
        }
      ]
    },
    {
      "cell_type": "code",
      "source": [
        "experiment_data = np.array([experiment_label, shoe_sales[:,1]])\n",
        "experiment_data = experiment_data.T\n",
        "print(experiment_data)"
      ],
      "metadata": {
        "colab": {
          "base_uri": "https://localhost:8080/"
        },
        "id": "-ZcCF8YAr5Uz",
        "outputId": "00663a79-8107-49dd-aa5b-ed1d44ddac3d"
      },
      "execution_count": null,
      "outputs": [
        {
          "output_type": "stream",
          "name": "stdout",
          "text": [
            "[[ 0 35]\n",
            " [ 1 17]\n",
            " [ 1 19]\n",
            " [ 1 24]\n",
            " [ 1 41]\n",
            " [ 0 24]\n",
            " [ 0 27]\n",
            " [ 1 32]\n",
            " [ 0 21]\n",
            " [ 1 31]\n",
            " [ 1 27]\n",
            " [ 0 33]\n",
            " [ 1 16]\n",
            " [ 1 23]\n",
            " [ 0 28]\n",
            " [ 1 32]\n",
            " [ 0 23]\n",
            " [ 1 24]\n",
            " [ 0 33]\n",
            " [ 1 23]\n",
            " [ 0 18]\n",
            " [ 0 21]\n",
            " [ 0 29]\n",
            " [ 0 19]]\n"
          ]
        }
      ]
    },
    {
      "cell_type": "code",
      "source": [
        "experiment_diff_mean = experiment_data[experiment_data[:,0]==1].mean() - experiment_data[experiment_data[:,0]==0].mean()"
      ],
      "metadata": {
        "id": "8s76hvLur6zh"
      },
      "execution_count": null,
      "outputs": []
    },
    {
      "cell_type": "code",
      "source": [
        "experiment_diff_mean"
      ],
      "metadata": {
        "colab": {
          "base_uri": "https://localhost:8080/"
        },
        "id": "FioxGKp6r9gg",
        "outputId": "de602572-3d5f-4a6a-de84-91b954f9ed01"
      },
      "execution_count": null,
      "outputs": [
        {
          "output_type": "execute_result",
          "data": {
            "text/plain": [
              "0.4166666666666661"
            ]
          },
          "metadata": {},
          "execution_count": 39
        }
      ]
    },
    {
      "cell_type": "code",
      "source": [
        "def shuffle_experiment(n_times):\n",
        "  experiment_diff_mean = np.empty([n_times,1])\n",
        "  for times in np.arange(n_times):\n",
        "    experiment_label = np.random.randint(0,2,shoe_sales.shape[0])\n",
        "    experiment_data = np.array([experiment_label, shoe_sales[:,1]]).T\n",
        "    experiment_diff_mean[times] = experiment_data[experiment_data[:,0]==1].mean() - experiment_data[experiment_data[:,0]==0].mean()\n",
        "  return experiment_diff_mean"
      ],
      "metadata": {
        "id": "Wag2SQcYs_r6"
      },
      "execution_count": null,
      "outputs": []
    },
    {
      "cell_type": "code",
      "source": [
        "experiment_diff_mean = shuffle_experiment(100)\n",
        "experiment_diff_mean[:10]\n"
      ],
      "metadata": {
        "colab": {
          "base_uri": "https://localhost:8080/"
        },
        "id": "0IoSAi5Zte_S",
        "outputId": "6267d94e-2f17-4615-ddaf-dc26117d4ffd"
      },
      "execution_count": null,
      "outputs": [
        {
          "output_type": "execute_result",
          "data": {
            "text/plain": [
              "array([[ 2.08041958],\n",
              "       [-0.34444444],\n",
              "       [ 0.45555556],\n",
              "       [-0.04285714],\n",
              "       [ 1.38571429],\n",
              "       [ 0.18888889],\n",
              "       [ 1.57692308],\n",
              "       [ 1.96666667],\n",
              "       [ 1.6048951 ],\n",
              "       [-0.07777778]])"
            ]
          },
          "metadata": {},
          "execution_count": 45
        }
      ]
    },
    {
      "cell_type": "code",
      "source": [
        "sns.distplot(experiment_diff_mean, kde=False)"
      ],
      "metadata": {
        "colab": {
          "base_uri": "https://localhost:8080/",
          "height": 340
        },
        "id": "38Y_dbn9thrt",
        "outputId": "77e629a6-b10d-4bdc-f68e-9138c99e699d"
      },
      "execution_count": null,
      "outputs": [
        {
          "output_type": "stream",
          "name": "stderr",
          "text": [
            "/usr/local/lib/python3.7/dist-packages/seaborn/distributions.py:2619: FutureWarning: `distplot` is a deprecated function and will be removed in a future version. Please adapt your code to use either `displot` (a figure-level function with similar flexibility) or `histplot` (an axes-level function for histograms).\n",
            "  warnings.warn(msg, FutureWarning)\n"
          ]
        },
        {
          "output_type": "execute_result",
          "data": {
            "text/plain": [
              "<matplotlib.axes._subplots.AxesSubplot at 0x7f72cb7c5a50>"
            ]
          },
          "metadata": {},
          "execution_count": 46
        },
        {
          "output_type": "display_data",
          "data": {
            "text/plain": [
              "<Figure size 432x288 with 1 Axes>"
            ],
            "image/png": "[encoded data removed]"
          },
          "metadata": {
            "needs_background": "light"
          }
        }
      ]
    },
    {
      "cell_type": "code",
      "source": [
        "print(\"Data: Difference in mean greater than observed:\", experiment_diff_mean[experiment_diff_mean>=observed_difference])\n",
        "\n",
        "print(\"Number of times diff in mean greater than observed:\", experiment_diff_mean[experiment_diff_mean>=observed_difference].shape[0])\n",
        "\n",
        "print(\"% of times diff in mean greater than observed:\", experiment_diff_mean[experiment_diff_mean>=observed_difference].shape[0]/float(experiment_diff_mean.shape[0])*100)"
      ],
      "metadata": {
        "colab": {
          "base_uri": "https://localhost:8080/"
        },
        "id": "2lhoeM7ItqEX",
        "outputId": "f2dbdb32-83cf-4594-b727-4d908a4dc8f6"
      },
      "execution_count": null,
      "outputs": [
        {
          "output_type": "stream",
          "name": "stdout",
          "text": [
            "Data: Difference in mean greater than observed: []\n",
            "Number of times diff in mean greater than observed: 0\n",
            "% of times diff in mean greater than observed: 0.0\n"
          ]
        }
      ]
    },
    {
      "cell_type": "markdown",
      "source": [
        "#Second dataset"
      ],
      "metadata": {
        "id": "xyRviKMhyv4r"
      }
    },
    {
      "cell_type": "code",
      "source": [
        "before_opt_two = np.array([230, 210, 190, 240, 350, 170, 180, 240, 330, 270, 210, 230])\n",
        "after_opt_two = np.array([310,180,190,240,220,240,160,410, 130, 320, 290, 210])"
      ],
      "metadata": {
        "id": "fh2Zde5kvEXf"
      },
      "execution_count": null,
      "outputs": []
    },
    {
      "cell_type": "code",
      "source": [
        "print(\"Mean sales before price optimization\", np.mean(before_opt_two))\n",
        "print(\"Mean sales after price optimization\", np.mean(after_opt_two))\n",
        "print(\"Difference between before and after optimization\", np.mean(after_opt_two)-np.mean(before_opt_two))"
      ],
      "metadata": {
        "colab": {
          "base_uri": "https://localhost:8080/"
        },
        "id": "qggA2wBVyvbL",
        "outputId": "abd4cb27-6a8c-4efe-ec1f-83493bec1a96"
      },
      "execution_count": null,
      "outputs": [
        {
          "output_type": "stream",
          "name": "stdout",
          "text": [
            "Mean sales before price optimization 237.5\n",
            "Mean sales after price optimization 241.66666666666666\n",
            "Difference between before and after optimization 4.166666666666657\n"
          ]
        }
      ]
    },
    {
      "cell_type": "code",
      "source": [
        "shoe_sales_two = np.array([np.append(np.zeros(before_opt_two.shape[0]), np.ones(after_opt_two.shape[0])), np.append(before_opt_two, after_opt_two)], dtype=int)\n",
        "shoe_sales_two = shoe_sales_two.T"
      ],
      "metadata": {
        "colab": {
          "base_uri": "https://localhost:8080/",
          "height": 201
        },
        "id": "aLAmXusNy09r",
        "outputId": "3e7f2d2a-8603-48e8-c99a-e21307a5b1d6"
      },
      "execution_count": null,
      "outputs": [
        {
          "output_type": "error",
          "ename": "TypeError",
          "evalue": "ignored",
          "traceback": [
            "\u001b[0;31m---------------------------------------------------------------------------\u001b[0m",
            "\u001b[0;31mTypeError\u001b[0m                                 Traceback (most recent call last)",
            "\u001b[0;32m<ipython-input-74-bdfedad611f3>\u001b[0m in \u001b[0;36m<module>\u001b[0;34m()\u001b[0m\n\u001b[0;32m----> 1\u001b[0;31m \u001b[0mshoe_sales_two\u001b[0m \u001b[0;34m=\u001b[0m \u001b[0mnp\u001b[0m\u001b[0;34m.\u001b[0m\u001b[0marray\u001b[0m\u001b[0;34m(\u001b[0m\u001b[0;34m[\u001b[0m\u001b[0mnp\u001b[0m\u001b[0;34m.\u001b[0m\u001b[0mappend\u001b[0m\u001b[0;34m(\u001b[0m\u001b[0mnp\u001b[0m\u001b[0;34m.\u001b[0m\u001b[0mzeros\u001b[0m\u001b[0;34m(\u001b[0m\u001b[0mbefore_opt_two\u001b[0m\u001b[0;34m.\u001b[0m\u001b[0mshape\u001b[0m\u001b[0;34m[\u001b[0m\u001b[0;36m0\u001b[0m\u001b[0;34m]\u001b[0m\u001b[0;34m)\u001b[0m\u001b[0;34m,\u001b[0m \u001b[0mnp\u001b[0m\u001b[0;34m.\u001b[0m\u001b[0mones\u001b[0m\u001b[0;34m(\u001b[0m\u001b[0mafter_opt_two\u001b[0m\u001b[0;34m.\u001b[0m\u001b[0mshape\u001b[0m\u001b[0;34m[\u001b[0m\u001b[0;36m0\u001b[0m\u001b[0;34m]\u001b[0m\u001b[0;34m)\u001b[0m\u001b[0;34m)\u001b[0m\u001b[0;34m,\u001b[0m \u001b[0mnp\u001b[0m\u001b[0;34m.\u001b[0m\u001b[0mappend\u001b[0m\u001b[0;34m(\u001b[0m\u001b[0mbefore_opt_two\u001b[0m\u001b[0;34m,\u001b[0m \u001b[0mafter_opt_two\u001b[0m\u001b[0;34m)\u001b[0m\u001b[0;34m]\u001b[0m\u001b[0;34m,\u001b[0m \u001b[0mdtype\u001b[0m\u001b[0;34m=\u001b[0m\u001b[0mint\u001b[0m\u001b[0;34m)\u001b[0m\u001b[0;34m\u001b[0m\u001b[0;34m\u001b[0m\u001b[0m\n\u001b[0m\u001b[1;32m      2\u001b[0m \u001b[0mshoe_sales_two\u001b[0m \u001b[0;34m=\u001b[0m \u001b[0mshoe_sales_two\u001b[0m\u001b[0;34m.\u001b[0m\u001b[0mT\u001b[0m\u001b[0;34m\u001b[0m\u001b[0;34m\u001b[0m\u001b[0m\n",
            "\u001b[0;31mTypeError\u001b[0m: 'numpy.ndarray' object is not callable"
          ]
        }
      ]
    },
    {
      "cell_type": "code",
      "source": [
        "experiment_diff_mean = shuffle_experiment(100000)\n",
        "sns.distplot(experiment_diff_mean, kde=False)"
      ],
      "metadata": {
        "colab": {
          "base_uri": "https://localhost:8080/",
          "height": 410
        },
        "id": "uDHjnk6ty49S",
        "outputId": "5394afc7-ee2b-49c4-e02e-3ac167a3da96"
      },
      "execution_count": null,
      "outputs": [
        {
          "output_type": "stream",
          "name": "stderr",
          "text": [
            "/usr/local/lib/python3.7/dist-packages/ipykernel_launcher.py:6: RuntimeWarning: Mean of empty slice.\n",
            "  \n",
            "/usr/local/lib/python3.7/dist-packages/numpy/core/_methods.py:189: RuntimeWarning: invalid value encountered in double_scalars\n",
            "  ret = ret.dtype.type(ret / rcount)\n",
            "/usr/local/lib/python3.7/dist-packages/seaborn/distributions.py:2619: FutureWarning: `distplot` is a deprecated function and will be removed in a future version. Please adapt your code to use either `displot` (a figure-level function with similar flexibility) or `histplot` (an axes-level function for histograms).\n",
            "  warnings.warn(msg, FutureWarning)\n"
          ]
        },
        {
          "output_type": "execute_result",
          "data": {
            "text/plain": [
              "<matplotlib.axes._subplots.AxesSubplot at 0x7f72caf0c450>"
            ]
          },
          "metadata": {},
          "execution_count": 59
        },
        {
          "output_type": "display_data",
          "data": {
            "text/plain": [
              "<Figure size 432x288 with 1 Axes>"
            ],
            "image/png": "[encoded data removed]"
          },
          "metadata": {
            "needs_background": "light"
          }
        }
      ]
    },
    {
      "cell_type": "code",
      "source": [
        ""
      ],
      "metadata": {
        "id": "eHtPgzaVy6X0"
      },
      "execution_count": null,
      "outputs": []
    }
  ]
}