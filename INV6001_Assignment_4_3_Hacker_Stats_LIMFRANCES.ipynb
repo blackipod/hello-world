{
  "nbformat": 4,
  "nbformat_minor": 0,
  "metadata": {
    "colab": {
      "name": "INV6001 - Assignment 4 - #3 Hacker Stats - LIMFRANCES",
      "provenance": [],
      "collapsed_sections": [],
      "authorship_tag": "ABX9TyP2iOb0i6m8Fv0ClM1No2VV",
      "include_colab_link": true
    },
    "kernelspec": {
      "name": "python3",
      "display_name": "Python 3"
    },
    "language_info": {
      "name": "python"
    }
  },
  "cells": [
    {
      "cell_type": "markdown",
      "metadata": {
        "id": "view-in-github",
        "colab_type": "text"
      },
      "source": [
        "<a href=\"https://colab.research.google.com/github/blackipod/hello-world/blob/main/INV6001_Assignment_4_3_Hacker_Stats_LIMFRANCES.ipynb\" target=\"_parent\"><img src=\"https://colab.research.google.com/assets/colab-badge.svg\" alt=\"Open In Colab\"/></a>"
      ]
    },
    {
      "cell_type": "markdown",
      "source": [
        "https://github.com/amitkaps/hackermath/blob/master/Module_2g_HackerStats.ipynb \n",
        "\n",
        "A shoe company launches a premium shoe model SC-X01. The sales for the first month (in USD) are given below:"
      ],
      "metadata": {
        "id": "7Knr8o-hC-_I"
      }
    },
    {
      "cell_type": "code",
      "execution_count": 1,
      "metadata": {
        "id": "xIC7cAFPYSe2"
      },
      "outputs": [],
      "source": [
        "import numpy as np\n",
        "import seaborn as sns\n",
        "sns.set(color_codes=True)\n",
        "%matplotlib inline"
      ]
    },
    {
      "cell_type": "code",
      "source": [
        "sales_1 = np.array([54, 69, 50, 57, 70, 69, 52, 46, 60, 42, 57, 64, 58, 60, 40, 63, 60, 70, 57, 71, 66, 67, 68, 42, 46, 50, 48, 65, 45, 45])"
      ],
      "metadata": {
        "id": "C-lgfmhfDJMy"
      },
      "execution_count": 2,
      "outputs": []
    },
    {
      "cell_type": "code",
      "source": [
        "np.mean(sales_1)"
      ],
      "metadata": {
        "colab": {
          "base_uri": "https://localhost:8080/"
        },
        "id": "VLHDsaGsDMUv",
        "outputId": "afa40e0b-db53-423e-e778-98d62900c714"
      },
      "execution_count": 3,
      "outputs": [
        {
          "output_type": "execute_result",
          "data": {
            "text/plain": [
              "57.03333333333333"
            ]
          },
          "metadata": {},
          "execution_count": 3
        }
      ]
    },
    {
      "cell_type": "code",
      "source": [
        "#Generates a random sample from a given 1-D array \n",
        "?np.random.choice"
      ],
      "metadata": {
        "id": "XZENmQolDN-3"
      },
      "execution_count": 4,
      "outputs": []
    },
    {
      "cell_type": "code",
      "source": [
        "#sample_1 = 1D array\n",
        "#30 = random numbers\n",
        "sample_1 = np.random.choice(sales_1, 30)\n",
        "\n",
        "sample_1"
      ],
      "metadata": {
        "colab": {
          "base_uri": "https://localhost:8080/"
        },
        "id": "q81WRvNbDRzB",
        "outputId": "8ce211ce-edb1-47c9-8dff-7911b9c7776e"
      },
      "execution_count": 12,
      "outputs": [
        {
          "output_type": "execute_result",
          "data": {
            "text/plain": [
              "array([58, 57, 60, 45, 57, 50, 64, 70, 50, 71, 50, 45, 64, 46, 60, 48, 54,\n",
              "       57, 69, 50, 69, 48, 68, 57, 46, 63, 67, 70, 48, 42])"
            ]
          },
          "metadata": {},
          "execution_count": 12
        }
      ]
    },
    {
      "cell_type": "code",
      "source": [
        "np.mean(sample_1)"
      ],
      "metadata": {
        "colab": {
          "base_uri": "https://localhost:8080/"
        },
        "id": "j3czlfJ7Dq8l",
        "outputId": "61db877f-ff9f-40b8-88f9-65a77a6a0e92"
      },
      "execution_count": 13,
      "outputs": [
        {
          "output_type": "execute_result",
          "data": {
            "text/plain": [
              "56.766666666666666"
            ]
          },
          "metadata": {},
          "execution_count": 13
        }
      ]
    },
    {
      "cell_type": "code",
      "source": [
        "#arguments:\n",
        "#input - input array for which bootstrap sample has to be generated\n",
        "#num_samples - number of times it has to be generated aka number of values\n",
        "#output: bootstrap_mean : This returns the mean of each of the bootstrap sample as a numpy array\n",
        "def bootstrap_sample_mean(input, num_samples):\n",
        "  bootstrap_mean = np.zeros([num_samples, 1])\n",
        "\n",
        "  for i in np.arange(num_samples):\n",
        "    sample = np.random.choice(input, input.shape[0])\n",
        "    bootstrap_mean[i] = np.mean(sample)\n",
        "  \n",
        "  return bootstrap_mean"
      ],
      "metadata": {
        "id": "J3_5Qy9lDxE6"
      },
      "execution_count": 18,
      "outputs": []
    },
    {
      "cell_type": "code",
      "source": [
        "bootstrap_mean = bootstrap_sample_mean(sales_1, 5)"
      ],
      "metadata": {
        "id": "9sQOgsFwEAn9"
      },
      "execution_count": 22,
      "outputs": []
    },
    {
      "cell_type": "code",
      "source": [
        "sns.distplot(bootstrap_mean, kde=False)"
      ],
      "metadata": {
        "colab": {
          "base_uri": "https://localhost:8080/",
          "height": 340
        },
        "id": "Qf_ScxW6Ee7w",
        "outputId": "7fb56180-451e-4327-e18b-f144606aa9bc"
      },
      "execution_count": 23,
      "outputs": [
        {
          "output_type": "stream",
          "name": "stderr",
          "text": [
            "/usr/local/lib/python3.7/dist-packages/seaborn/distributions.py:2619: FutureWarning: `distplot` is a deprecated function and will be removed in a future version. Please adapt your code to use either `displot` (a figure-level function with similar flexibility) or `histplot` (an axes-level function for histograms).\n",
            "  warnings.warn(msg, FutureWarning)\n"
          ]
        },
        {
          "output_type": "execute_result",
          "data": {
            "text/plain": [
              "<matplotlib.axes._subplots.AxesSubplot at 0x7f3e43e8aa10>"
            ]
          },
          "metadata": {},
          "execution_count": 23
        },
        {
          "output_type": "display_data",
          "data": {
            "text/plain": [
              "<Figure size 432x288 with 1 Axes>"
            ],
            "image/png": "[encoded data removed]"
          },
          "metadata": {
            "needs_background": "light"
          }
        }
      ]
    },
    {
      "cell_type": "code",
      "source": [
        "np.std(bootstrap_mean)"
      ],
      "metadata": {
        "colab": {
          "base_uri": "https://localhost:8080/"
        },
        "id": "jxLq9smqExmU",
        "outputId": "61c2a2a7-df24-42f5-f8eb-6d9f08f89ab5"
      },
      "execution_count": 24,
      "outputs": [
        {
          "output_type": "execute_result",
          "data": {
            "text/plain": [
              "1.7414425693149402"
            ]
          },
          "metadata": {},
          "execution_count": 24
        }
      ]
    },
    {
      "cell_type": "code",
      "source": [
        "bootstrap_mean = bootstrap_sample_mean(sales_1, 100000)"
      ],
      "metadata": {
        "id": "2XPd7numFnol"
      },
      "execution_count": 25,
      "outputs": []
    },
    {
      "cell_type": "code",
      "source": [
        "sns.distplot(bootstrap_mean, kde=False)"
      ],
      "metadata": {
        "colab": {
          "base_uri": "https://localhost:8080/",
          "height": 340
        },
        "id": "b-kNYLPEFr4d",
        "outputId": "f910f37b-6b2e-4de4-8813-17e7d61e0a72"
      },
      "execution_count": 26,
      "outputs": [
        {
          "output_type": "stream",
          "name": "stderr",
          "text": [
            "/usr/local/lib/python3.7/dist-packages/seaborn/distributions.py:2619: FutureWarning: `distplot` is a deprecated function and will be removed in a future version. Please adapt your code to use either `displot` (a figure-level function with similar flexibility) or `histplot` (an axes-level function for histograms).\n",
            "  warnings.warn(msg, FutureWarning)\n"
          ]
        },
        {
          "output_type": "execute_result",
          "data": {
            "text/plain": [
              "<matplotlib.axes._subplots.AxesSubplot at 0x7f3e43e17510>"
            ]
          },
          "metadata": {},
          "execution_count": 26
        },
        {
          "output_type": "display_data",
          "data": {
            "text/plain": [
              "<Figure size 432x288 with 1 Axes>"
            ],
            "image/png": "[encoded data removed]"
          },
          "metadata": {
            "needs_background": "light"
          }
        }
      ]
    },
    {
      "cell_type": "code",
      "source": [
        "np.mean(bootstrap_mean)"
      ],
      "metadata": {
        "colab": {
          "base_uri": "https://localhost:8080/"
        },
        "id": "LOtyWGBGFxHs",
        "outputId": "24212496-6b38-4a65-f88f-3c7ae4ccaa49"
      },
      "execution_count": 27,
      "outputs": [
        {
          "output_type": "execute_result",
          "data": {
            "text/plain": [
              "57.02255"
            ]
          },
          "metadata": {},
          "execution_count": 27
        }
      ]
    },
    {
      "cell_type": "code",
      "source": [
        "np.std(bootstrap_mean)"
      ],
      "metadata": {
        "colab": {
          "base_uri": "https://localhost:8080/"
        },
        "id": "ckz28wV_F1GD",
        "outputId": "ad30d130-81ec-4705-9c44-81ea8be8a2a3"
      },
      "execution_count": 28,
      "outputs": [
        {
          "output_type": "execute_result",
          "data": {
            "text/plain": [
              "1.7614702973967828"
            ]
          },
          "metadata": {},
          "execution_count": 28
        }
      ]
    },
    {
      "cell_type": "code",
      "source": [
        "from scipy import stats\n",
        "stats.sem(sales_1)"
      ],
      "metadata": {
        "colab": {
          "base_uri": "https://localhost:8080/"
        },
        "id": "lzZKKuTIGLPR",
        "outputId": "88ec047f-1f30-430f-bac5-692d231ffcd5"
      },
      "execution_count": 29,
      "outputs": [
        {
          "output_type": "execute_result",
          "data": {
            "text/plain": [
              "1.7885223679161515"
            ]
          },
          "metadata": {},
          "execution_count": 29
        }
      ]
    },
    {
      "cell_type": "markdown",
      "source": [
        "#A/B Testing\n",
        "The shoe company, after a month of sales, got endorsed by the current MVP of NBA.\n",
        "\n",
        "The sales for the second month after lunch, and the first month after endorsement is as follows:"
      ],
      "metadata": {
        "id": "GV-5q0hGGV-v"
      }
    },
    {
      "cell_type": "code",
      "source": [
        "sales_2 = np.array([64, 60, 52, 51, 69, 71, 71, 68, 56, 63, 71, 61, 63, 67, 60, 62, 72,\n",
        "       42, 54, 45, 59, 44, 64, 63, 59, 40, 55, 61, 57, 63])"
      ],
      "metadata": {
        "id": "aRzI5QUIGN9D"
      },
      "execution_count": 30,
      "outputs": []
    },
    {
      "cell_type": "code",
      "source": [
        "np.mean(sales_2)"
      ],
      "metadata": {
        "colab": {
          "base_uri": "https://localhost:8080/"
        },
        "id": "98dc370kGedG",
        "outputId": "de34bd40-a588-4f9f-ff75-f1e49ec57510"
      },
      "execution_count": 31,
      "outputs": [
        {
          "output_type": "execute_result",
          "data": {
            "text/plain": [
              "59.56666666666667"
            ]
          },
          "metadata": {},
          "execution_count": 31
        }
      ]
    },
    {
      "cell_type": "code",
      "source": [
        "# The difference between the two means:\n",
        "shoe_sales_diff = np.mean(sales_2) - np.mean(sales_1)\n",
        "shoe_sales_diff"
      ],
      "metadata": {
        "colab": {
          "base_uri": "https://localhost:8080/"
        },
        "id": "ARRSOYgFGgI6",
        "outputId": "2c11e067-3d41-4368-be7a-3940f1588fcb"
      },
      "execution_count": 32,
      "outputs": [
        {
          "output_type": "execute_result",
          "data": {
            "text/plain": [
              "2.5333333333333385"
            ]
          },
          "metadata": {},
          "execution_count": 32
        }
      ]
    },
    {
      "cell_type": "markdown",
      "source": [
        "**#####Sales improved by 2.53%. Question is, is it statistically significant?**\n",
        "\n",
        "We will assign label to *sales before* endorsement as 1 and *sales after* endorsement as 2<br><br>\n",
        "The observed difference is given in the above cell<br><br>\n",
        "We will then randomly shuffle the labels between the two groups<br><br>\n",
        "Compute the mean between the two groups.<br><br>\n",
        "Find the % of times when the difference between the means computed is greater than what we observed above<br><br>\n",
        "If the % of times is less than x%, we would make the call that the improvements are real (generally x is taken as 5)"
      ],
      "metadata": {
        "id": "Uc6RNXZ1GyNs"
      }
    },
    {
      "cell_type": "code",
      "source": [
        "#np.array parameters: array-like parameter, dtype, order, subok, ndmin, like\n",
        "#np.repeat parameters: input, repeats, axis\n",
        "\n",
        "#get sales_1 dataset\n",
        "sales_label_1 = np.array([sales_1, np.repeat(1,sales_1.shape[0])])\n",
        "\n",
        "#get sales_2 dataset\n",
        "sales_label_2 = np.array([sales_2, np.repeat(2,sales_2.shape[0])])"
      ],
      "metadata": {
        "id": "GWCiSn6NGoOT"
      },
      "execution_count": 39,
      "outputs": []
    },
    {
      "cell_type": "code",
      "source": [
        "#combine\n",
        "\n",
        "shoe_sales = np.concatenate((sales_label_1, sales_label_2), axis=0)"
      ],
      "metadata": {
        "id": "5ZIyn-beHb_-"
      },
      "execution_count": 40,
      "outputs": []
    },
    {
      "cell_type": "code",
      "source": [
        "#shuffle labels\n",
        "experiment_label = np.random.randint(1, 3, shoe_sales.shape[0])"
      ],
      "metadata": {
        "id": "NL2Cb0PzKAtu"
      },
      "execution_count": 41,
      "outputs": []
    },
    {
      "cell_type": "code",
      "source": [
        "experiment_label"
      ],
      "metadata": {
        "colab": {
          "base_uri": "https://localhost:8080/"
        },
        "id": "0qXU5VQgKKX7",
        "outputId": "cb89f16a-4973-43f3-8521-256c0d0ee896"
      },
      "execution_count": 42,
      "outputs": [
        {
          "output_type": "execute_result",
          "data": {
            "text/plain": [
              "array([1, 2, 2, 2])"
            ]
          },
          "metadata": {},
          "execution_count": 42
        }
      ]
    },
    {
      "cell_type": "code",
      "source": [
        "#create experiment data combining actual sales with shuffled label\n",
        "\n",
        "experiment_data = np.transpose(np.array([shoe_sales[:,0], experiment_label]))"
      ],
      "metadata": {
        "id": "91l3HpSpKLKG"
      },
      "execution_count": 43,
      "outputs": []
    },
    {
      "cell_type": "code",
      "source": [
        "experiment_data"
      ],
      "metadata": {
        "colab": {
          "base_uri": "https://localhost:8080/"
        },
        "id": "5jkSCSzSKYbx",
        "outputId": "84aeb64c-f562-4bea-c9ac-026e954c02d0"
      },
      "execution_count": 44,
      "outputs": [
        {
          "output_type": "execute_result",
          "data": {
            "text/plain": [
              "array([[54,  1],\n",
              "       [ 1,  2],\n",
              "       [64,  2],\n",
              "       [ 2,  2]])"
            ]
          },
          "metadata": {},
          "execution_count": 44
        }
      ]
    },
    {
      "cell_type": "code",
      "source": [
        "experiment_diff_mean = experiment_data[experiment_data[:,1]==2].mean() - experiment_data[experiment_data[:,1]==1].mean()"
      ],
      "metadata": {
        "id": "CWhz8bG1KZtA"
      },
      "execution_count": 45,
      "outputs": []
    },
    {
      "cell_type": "code",
      "source": [
        "experiment_diff_mean"
      ],
      "metadata": {
        "colab": {
          "base_uri": "https://localhost:8080/"
        },
        "id": "o77uCc3oKor0",
        "outputId": "6b266aec-600d-48a6-fa4f-32c63d3c11c6"
      },
      "execution_count": 46,
      "outputs": [
        {
          "output_type": "execute_result",
          "data": {
            "text/plain": [
              "-15.333333333333334"
            ]
          },
          "metadata": {},
          "execution_count": 46
        }
      ]
    },
    {
      "cell_type": "code",
      "source": [
        "def mean_diff_shuffle_labels(input, num_times):\n",
        "  mean_diff_shuffle_mean = np.zeros([num_times, 1])\n",
        "\n",
        "  for i in np.arange(num_times):\n",
        "    experiment_label = np.random.randint(1, 3, shoe_sales.shape[0])\n",
        "    experiment_data = np.transpose(np.array([shoe_sales[:,0], experiment_label]))\n",
        "    experiment_diff_mean = experiment_data[experiment_data[:,1]==2].mean() - experiment_data[experiment_data[:,1]==1].mean()\n",
        "\n",
        "    mean_diff_shuffle_mean[i] = experiment_diff_mean\n",
        "  \n",
        "  return mean_diff_shuffle_mean"
      ],
      "metadata": {
        "id": "ncFfaM7vKp6U"
      },
      "execution_count": 47,
      "outputs": []
    },
    {
      "cell_type": "code",
      "source": [
        "shoe_mean_diff_shuffle = mean_diff_shuffle_labels(shoe_sales,10)"
      ],
      "metadata": {
        "id": "lhvj99p6LDk2"
      },
      "execution_count": 48,
      "outputs": []
    },
    {
      "cell_type": "code",
      "source": [
        "sns.distplot(shoe_mean_diff_shuffle, kde = False)"
      ],
      "metadata": {
        "colab": {
          "base_uri": "https://localhost:8080/",
          "height": 340
        },
        "id": "1RazkaHyLHt5",
        "outputId": "2be501f0-d3ef-4df5-88d0-b64f2985d2e5"
      },
      "execution_count": 49,
      "outputs": [
        {
          "output_type": "stream",
          "name": "stderr",
          "text": [
            "/usr/local/lib/python3.7/dist-packages/seaborn/distributions.py:2619: FutureWarning: `distplot` is a deprecated function and will be removed in a future version. Please adapt your code to use either `displot` (a figure-level function with similar flexibility) or `histplot` (an axes-level function for histograms).\n",
            "  warnings.warn(msg, FutureWarning)\n"
          ]
        },
        {
          "output_type": "execute_result",
          "data": {
            "text/plain": [
              "<matplotlib.axes._subplots.AxesSubplot at 0x7f3e4465dd50>"
            ]
          },
          "metadata": {},
          "execution_count": 49
        },
        {
          "output_type": "display_data",
          "data": {
            "text/plain": [
              "<Figure size 432x288 with 1 Axes>"
            ],
            "image/png": "[encoded data removed]"
          },
          "metadata": {
            "needs_background": "light"
          }
        }
      ]
    },
    {
      "cell_type": "code",
      "source": [
        "print(\"Data: Difference in mean greater than observed:\", \\\n",
        "        shoe_mean_diff_shuffle[shoe_mean_diff_shuffle>shoe_sales_diff])"
      ],
      "metadata": {
        "colab": {
          "base_uri": "https://localhost:8080/"
        },
        "id": "xiP4noS7LMlO",
        "outputId": "bc380019-ec3b-46d4-d1a2-e46e9ec12fcc"
      },
      "execution_count": 50,
      "outputs": [
        {
          "output_type": "stream",
          "name": "stdout",
          "text": [
            "Data: Difference in mean greater than observed: [ 3.25       19.33333333 20.         23.          3.25       23.        ]\n"
          ]
        }
      ]
    },
    {
      "cell_type": "code",
      "source": [
        "print(\"Number of times diff in mean greater than observed:\", \\\n",
        "            shoe_mean_diff_shuffle[shoe_mean_diff_shuffle>shoe_sales_diff].shape[0])"
      ],
      "metadata": {
        "colab": {
          "base_uri": "https://localhost:8080/"
        },
        "id": "MJll0nUYLRsm",
        "outputId": "f70af5de-cda3-436d-c9ac-6d959ab026b0"
      },
      "execution_count": 51,
      "outputs": [
        {
          "output_type": "stream",
          "name": "stdout",
          "text": [
            "Number of times diff in mean greater than observed: 6\n"
          ]
        }
      ]
    },
    {
      "cell_type": "code",
      "source": [
        "print(\"% of times diff in mean greater than observed:\", \\\n",
        "        shoe_mean_diff_shuffle[shoe_mean_diff_shuffle>shoe_sales_diff].shape[0]/float(shoe_mean_diff_shuffle.shape[0])*100)"
      ],
      "metadata": {
        "colab": {
          "base_uri": "https://localhost:8080/"
        },
        "id": "-UmOu7DKLViD",
        "outputId": "607d64b2-3a70-4daf-9013-f46fb9747bee"
      },
      "execution_count": 52,
      "outputs": [
        {
          "output_type": "stream",
          "name": "stdout",
          "text": [
            "% of times diff in mean greater than observed: 60.0\n"
          ]
        }
      ]
    },
    {
      "cell_type": "code",
      "source": [
        "shoe_mean_diff_shuffle = mean_diff_shuffle_labels(shoe_sales, 100000)"
      ],
      "metadata": {
        "colab": {
          "base_uri": "https://localhost:8080/"
        },
        "id": "z6YalntxLZKi",
        "outputId": "e3f2d9a2-1a0a-4b52-cac1-34b2f959e733"
      },
      "execution_count": 53,
      "outputs": [
        {
          "output_type": "stream",
          "name": "stderr",
          "text": [
            "/usr/local/lib/python3.7/dist-packages/ipykernel_launcher.py:7: RuntimeWarning: Mean of empty slice.\n",
            "  import sys\n",
            "/usr/local/lib/python3.7/dist-packages/numpy/core/_methods.py:189: RuntimeWarning: invalid value encountered in double_scalars\n",
            "  ret = ret.dtype.type(ret / rcount)\n"
          ]
        }
      ]
    },
    {
      "cell_type": "code",
      "source": [
        "sns.distplot(shoe_mean_diff_shuffle, kde = False)"
      ],
      "metadata": {
        "colab": {
          "base_uri": "https://localhost:8080/",
          "height": 340
        },
        "id": "GhuQDCVJLaZF",
        "outputId": "85599409-e24b-4367-b98e-d119bfbe8851"
      },
      "execution_count": 54,
      "outputs": [
        {
          "output_type": "stream",
          "name": "stderr",
          "text": [
            "/usr/local/lib/python3.7/dist-packages/seaborn/distributions.py:2619: FutureWarning: `distplot` is a deprecated function and will be removed in a future version. Please adapt your code to use either `displot` (a figure-level function with similar flexibility) or `histplot` (an axes-level function for histograms).\n",
            "  warnings.warn(msg, FutureWarning)\n"
          ]
        },
        {
          "output_type": "execute_result",
          "data": {
            "text/plain": [
              "<matplotlib.axes._subplots.AxesSubplot at 0x7f3e43caf990>"
            ]
          },
          "metadata": {},
          "execution_count": 54
        },
        {
          "output_type": "display_data",
          "data": {
            "text/plain": [
              "<Figure size 432x288 with 1 Axes>"
            ],
            "image/png": "[encoded data removed]"
          },
          "metadata": {
            "needs_background": "light"
          }
        }
      ]
    },
    {
      "cell_type": "markdown",
      "source": [
        "#Effect size"
      ],
      "metadata": {
        "id": "HammDJRlLjhr"
      }
    },
    {
      "cell_type": "code",
      "source": [
        "#find % increase in sales\n",
        "\n",
        "(np.mean(sales_2) - np.mean(sales_1))/np.mean(sales_1) *100"
      ],
      "metadata": {
        "colab": {
          "base_uri": "https://localhost:8080/"
        },
        "id": "thLoP9suLed3",
        "outputId": "0f4f621b-fc34-4a9b-e965-5b79aee798f8"
      },
      "execution_count": 55,
      "outputs": [
        {
          "output_type": "execute_result",
          "data": {
            "text/plain": [
              "4.441846873173592"
            ]
          },
          "metadata": {},
          "execution_count": 55
        }
      ]
    },
    {
      "cell_type": "code",
      "source": [
        ""
      ],
      "metadata": {
        "id": "C8ao27ZxLtJ8"
      },
      "execution_count": null,
      "outputs": []
    }
  ]
}